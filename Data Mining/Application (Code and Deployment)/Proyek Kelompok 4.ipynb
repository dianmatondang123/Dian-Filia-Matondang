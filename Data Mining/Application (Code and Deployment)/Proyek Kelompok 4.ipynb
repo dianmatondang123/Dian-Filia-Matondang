{
 "cells": [
  {
   "cell_type": "markdown",
   "id": "c3f932cf",
   "metadata": {},
   "source": [
    "# KELOMPOK 4"
   ]
  },
  {
   "cell_type": "markdown",
   "id": "5a8df58a",
   "metadata": {},
   "source": [
    "- Dian Filia Matondang            (12S19003)\n",
    "- Amelia Jane Audri Lumbanraja    (12S19005)\n",
    "- Cintya Yossy Silvana Nainggolan (12S19006)"
   ]
  },
  {
   "cell_type": "markdown",
   "id": "33159292",
   "metadata": {},
   "source": [
    "## DATA UNDERSTANDING"
   ]
  },
  {
   "cell_type": "markdown",
   "id": "ae520ee9",
   "metadata": {},
   "source": [
    "### Preview Dataset"
   ]
  },
  {
   "cell_type": "code",
   "execution_count": 3,
   "id": "c2f0a749",
   "metadata": {},
   "outputs": [],
   "source": [
    "import pandas as pd\n",
    "import numpy as np\n",
    "import seaborn as sns\n",
    "import math\n",
    "import sklearn\n",
    "from sklearn.model_selection import train_test_split\n",
    "%matplotlib inline\n",
    "import matplotlib.pyplot as plt"
   ]
  },
  {
   "cell_type": "code",
   "execution_count": 4,
   "id": "a31c2b95",
   "metadata": {
    "scrolled": true
   },
   "outputs": [
    {
     "data": {
      "text/html": [
       "<div>\n",
       "<style scoped>\n",
       "    .dataframe tbody tr th:only-of-type {\n",
       "        vertical-align: middle;\n",
       "    }\n",
       "\n",
       "    .dataframe tbody tr th {\n",
       "        vertical-align: top;\n",
       "    }\n",
       "\n",
       "    .dataframe thead th {\n",
       "        text-align: right;\n",
       "    }\n",
       "</style>\n",
       "<table border=\"1\" class=\"dataframe\">\n",
       "  <thead>\n",
       "    <tr style=\"text-align: right;\">\n",
       "      <th></th>\n",
       "      <th>row_id</th>\n",
       "      <th>tglpelayanan</th>\n",
       "      <th>kddati2</th>\n",
       "      <th>tkp</th>\n",
       "      <th>peserta</th>\n",
       "      <th>a</th>\n",
       "      <th>b</th>\n",
       "      <th>c</th>\n",
       "      <th>cb</th>\n",
       "      <th>d</th>\n",
       "      <th>...</th>\n",
       "      <th>kp</th>\n",
       "      <th>kt</th>\n",
       "      <th>ku</th>\n",
       "      <th>s</th>\n",
       "      <th>sa</th>\n",
       "      <th>sb</th>\n",
       "      <th>sc</th>\n",
       "      <th>sd</th>\n",
       "      <th>case</th>\n",
       "      <th>unit_cost</th>\n",
       "    </tr>\n",
       "  </thead>\n",
       "  <tbody>\n",
       "    <tr>\n",
       "      <th>0</th>\n",
       "      <td>1</td>\n",
       "      <td>4/1/2014 0:00</td>\n",
       "      <td>332</td>\n",
       "      <td>40</td>\n",
       "      <td>179530</td>\n",
       "      <td>0</td>\n",
       "      <td>0</td>\n",
       "      <td>1</td>\n",
       "      <td>0</td>\n",
       "      <td>1</td>\n",
       "      <td>...</td>\n",
       "      <td>0</td>\n",
       "      <td>0</td>\n",
       "      <td>0</td>\n",
       "      <td>0</td>\n",
       "      <td>0</td>\n",
       "      <td>0</td>\n",
       "      <td>0</td>\n",
       "      <td>0</td>\n",
       "      <td>266</td>\n",
       "      <td>3.597440e+06</td>\n",
       "    </tr>\n",
       "    <tr>\n",
       "      <th>1</th>\n",
       "      <td>2</td>\n",
       "      <td>11/1/2016 0:00</td>\n",
       "      <td>54</td>\n",
       "      <td>40</td>\n",
       "      <td>104782</td>\n",
       "      <td>0</td>\n",
       "      <td>1</td>\n",
       "      <td>0</td>\n",
       "      <td>0</td>\n",
       "      <td>0</td>\n",
       "      <td>...</td>\n",
       "      <td>0</td>\n",
       "      <td>0</td>\n",
       "      <td>1</td>\n",
       "      <td>0</td>\n",
       "      <td>0</td>\n",
       "      <td>0</td>\n",
       "      <td>1</td>\n",
       "      <td>1</td>\n",
       "      <td>2453</td>\n",
       "      <td>4.951008e+06</td>\n",
       "    </tr>\n",
       "    <tr>\n",
       "      <th>2</th>\n",
       "      <td>3</td>\n",
       "      <td>5/1/2016 0:00</td>\n",
       "      <td>323</td>\n",
       "      <td>30</td>\n",
       "      <td>280645</td>\n",
       "      <td>0</td>\n",
       "      <td>0</td>\n",
       "      <td>1</td>\n",
       "      <td>0</td>\n",
       "      <td>0</td>\n",
       "      <td>...</td>\n",
       "      <td>0</td>\n",
       "      <td>0</td>\n",
       "      <td>0</td>\n",
       "      <td>0</td>\n",
       "      <td>0</td>\n",
       "      <td>0</td>\n",
       "      <td>0</td>\n",
       "      <td>0</td>\n",
       "      <td>1690</td>\n",
       "      <td>1.984208e+05</td>\n",
       "    </tr>\n",
       "    <tr>\n",
       "      <th>3</th>\n",
       "      <td>4</td>\n",
       "      <td>11/1/2018 0:00</td>\n",
       "      <td>318</td>\n",
       "      <td>40</td>\n",
       "      <td>178685</td>\n",
       "      <td>0</td>\n",
       "      <td>1</td>\n",
       "      <td>0</td>\n",
       "      <td>0</td>\n",
       "      <td>0</td>\n",
       "      <td>...</td>\n",
       "      <td>0</td>\n",
       "      <td>0</td>\n",
       "      <td>0</td>\n",
       "      <td>0</td>\n",
       "      <td>0</td>\n",
       "      <td>0</td>\n",
       "      <td>0</td>\n",
       "      <td>3</td>\n",
       "      <td>1321</td>\n",
       "      <td>4.008756e+06</td>\n",
       "    </tr>\n",
       "    <tr>\n",
       "      <th>4</th>\n",
       "      <td>5</td>\n",
       "      <td>10/1/2019 0:00</td>\n",
       "      <td>150</td>\n",
       "      <td>30</td>\n",
       "      <td>1199321</td>\n",
       "      <td>1</td>\n",
       "      <td>0</td>\n",
       "      <td>1</td>\n",
       "      <td>0</td>\n",
       "      <td>0</td>\n",
       "      <td>...</td>\n",
       "      <td>1</td>\n",
       "      <td>0</td>\n",
       "      <td>0</td>\n",
       "      <td>0</td>\n",
       "      <td>0</td>\n",
       "      <td>1</td>\n",
       "      <td>0</td>\n",
       "      <td>5</td>\n",
       "      <td>73056</td>\n",
       "      <td>3.072272e+05</td>\n",
       "    </tr>\n",
       "    <tr>\n",
       "      <th>...</th>\n",
       "      <td>...</td>\n",
       "      <td>...</td>\n",
       "      <td>...</td>\n",
       "      <td>...</td>\n",
       "      <td>...</td>\n",
       "      <td>...</td>\n",
       "      <td>...</td>\n",
       "      <td>...</td>\n",
       "      <td>...</td>\n",
       "      <td>...</td>\n",
       "      <td>...</td>\n",
       "      <td>...</td>\n",
       "      <td>...</td>\n",
       "      <td>...</td>\n",
       "      <td>...</td>\n",
       "      <td>...</td>\n",
       "      <td>...</td>\n",
       "      <td>...</td>\n",
       "      <td>...</td>\n",
       "      <td>...</td>\n",
       "      <td>...</td>\n",
       "    </tr>\n",
       "    <tr>\n",
       "      <th>57966</th>\n",
       "      <td>57967</td>\n",
       "      <td>3/1/2019 0:00</td>\n",
       "      <td>241</td>\n",
       "      <td>40</td>\n",
       "      <td>157213</td>\n",
       "      <td>0</td>\n",
       "      <td>0</td>\n",
       "      <td>1</td>\n",
       "      <td>0</td>\n",
       "      <td>0</td>\n",
       "      <td>...</td>\n",
       "      <td>0</td>\n",
       "      <td>0</td>\n",
       "      <td>0</td>\n",
       "      <td>0</td>\n",
       "      <td>0</td>\n",
       "      <td>0</td>\n",
       "      <td>0</td>\n",
       "      <td>0</td>\n",
       "      <td>410</td>\n",
       "      <td>3.443332e+06</td>\n",
       "    </tr>\n",
       "    <tr>\n",
       "      <th>57967</th>\n",
       "      <td>57968</td>\n",
       "      <td>9/1/2019 0:00</td>\n",
       "      <td>338</td>\n",
       "      <td>30</td>\n",
       "      <td>402173</td>\n",
       "      <td>0</td>\n",
       "      <td>0</td>\n",
       "      <td>1</td>\n",
       "      <td>0</td>\n",
       "      <td>0</td>\n",
       "      <td>...</td>\n",
       "      <td>0</td>\n",
       "      <td>0</td>\n",
       "      <td>0</td>\n",
       "      <td>0</td>\n",
       "      <td>0</td>\n",
       "      <td>0</td>\n",
       "      <td>0</td>\n",
       "      <td>0</td>\n",
       "      <td>8272</td>\n",
       "      <td>2.128621e+05</td>\n",
       "    </tr>\n",
       "    <tr>\n",
       "      <th>57968</th>\n",
       "      <td>57969</td>\n",
       "      <td>6/1/2016 0:00</td>\n",
       "      <td>241</td>\n",
       "      <td>40</td>\n",
       "      <td>99401</td>\n",
       "      <td>0</td>\n",
       "      <td>0</td>\n",
       "      <td>1</td>\n",
       "      <td>0</td>\n",
       "      <td>0</td>\n",
       "      <td>...</td>\n",
       "      <td>0</td>\n",
       "      <td>0</td>\n",
       "      <td>0</td>\n",
       "      <td>0</td>\n",
       "      <td>0</td>\n",
       "      <td>0</td>\n",
       "      <td>0</td>\n",
       "      <td>0</td>\n",
       "      <td>294</td>\n",
       "      <td>3.028611e+06</td>\n",
       "    </tr>\n",
       "    <tr>\n",
       "      <th>57969</th>\n",
       "      <td>57970</td>\n",
       "      <td>1/1/2018 0:00</td>\n",
       "      <td>147</td>\n",
       "      <td>40</td>\n",
       "      <td>509495</td>\n",
       "      <td>0</td>\n",
       "      <td>0</td>\n",
       "      <td>1</td>\n",
       "      <td>0</td>\n",
       "      <td>0</td>\n",
       "      <td>...</td>\n",
       "      <td>0</td>\n",
       "      <td>0</td>\n",
       "      <td>0</td>\n",
       "      <td>0</td>\n",
       "      <td>0</td>\n",
       "      <td>0</td>\n",
       "      <td>2</td>\n",
       "      <td>0</td>\n",
       "      <td>1983</td>\n",
       "      <td>3.629365e+06</td>\n",
       "    </tr>\n",
       "    <tr>\n",
       "      <th>57970</th>\n",
       "      <td>57971</td>\n",
       "      <td>9/1/2016 0:00</td>\n",
       "      <td>204</td>\n",
       "      <td>30</td>\n",
       "      <td>770169</td>\n",
       "      <td>0</td>\n",
       "      <td>1</td>\n",
       "      <td>1</td>\n",
       "      <td>0</td>\n",
       "      <td>0</td>\n",
       "      <td>...</td>\n",
       "      <td>0</td>\n",
       "      <td>0</td>\n",
       "      <td>0</td>\n",
       "      <td>0</td>\n",
       "      <td>0</td>\n",
       "      <td>1</td>\n",
       "      <td>2</td>\n",
       "      <td>1</td>\n",
       "      <td>16679</td>\n",
       "      <td>2.956852e+05</td>\n",
       "    </tr>\n",
       "  </tbody>\n",
       "</table>\n",
       "<p>57971 rows × 36 columns</p>\n",
       "</div>"
      ],
      "text/plain": [
       "       row_id    tglpelayanan  kddati2  tkp  peserta  a  b  c  cb  d  ...  kp  \\\n",
       "0           1   4/1/2014 0:00      332   40   179530  0  0  1   0  1  ...   0   \n",
       "1           2  11/1/2016 0:00       54   40   104782  0  1  0   0  0  ...   0   \n",
       "2           3   5/1/2016 0:00      323   30   280645  0  0  1   0  0  ...   0   \n",
       "3           4  11/1/2018 0:00      318   40   178685  0  1  0   0  0  ...   0   \n",
       "4           5  10/1/2019 0:00      150   30  1199321  1  0  1   0  0  ...   1   \n",
       "...       ...             ...      ...  ...      ... .. .. ..  .. ..  ...  ..   \n",
       "57966   57967   3/1/2019 0:00      241   40   157213  0  0  1   0  0  ...   0   \n",
       "57967   57968   9/1/2019 0:00      338   30   402173  0  0  1   0  0  ...   0   \n",
       "57968   57969   6/1/2016 0:00      241   40    99401  0  0  1   0  0  ...   0   \n",
       "57969   57970   1/1/2018 0:00      147   40   509495  0  0  1   0  0  ...   0   \n",
       "57970   57971   9/1/2016 0:00      204   30   770169  0  1  1   0  0  ...   0   \n",
       "\n",
       "       kt  ku  s  sa  sb  sc  sd   case     unit_cost  \n",
       "0       0   0  0   0   0   0   0    266  3.597440e+06  \n",
       "1       0   1  0   0   0   1   1   2453  4.951008e+06  \n",
       "2       0   0  0   0   0   0   0   1690  1.984208e+05  \n",
       "3       0   0  0   0   0   0   3   1321  4.008756e+06  \n",
       "4       0   0  0   0   1   0   5  73056  3.072272e+05  \n",
       "...    ..  .. ..  ..  ..  ..  ..    ...           ...  \n",
       "57966   0   0  0   0   0   0   0    410  3.443332e+06  \n",
       "57967   0   0  0   0   0   0   0   8272  2.128621e+05  \n",
       "57968   0   0  0   0   0   0   0    294  3.028611e+06  \n",
       "57969   0   0  0   0   0   2   0   1983  3.629365e+06  \n",
       "57970   0   0  0   0   1   2   1  16679  2.956852e+05  \n",
       "\n",
       "[57971 rows x 36 columns]"
      ]
     },
     "execution_count": 4,
     "metadata": {},
     "output_type": "execute_result"
    }
   ],
   "source": [
    "case_cost = pd.read_csv(\"case_cost_prediction_train.csv\")\n",
    "case_cost"
   ]
  },
  {
   "cell_type": "markdown",
   "id": "815425a0",
   "metadata": {},
   "source": [
    "### Preview Data Types"
   ]
  },
  {
   "cell_type": "code",
   "execution_count": 5,
   "id": "362a45fc",
   "metadata": {},
   "outputs": [
    {
     "name": "stdout",
     "output_type": "stream",
     "text": [
      "row_id            int64\n",
      "tglpelayanan     object\n",
      "kddati2           int64\n",
      "tkp               int64\n",
      "peserta           int64\n",
      "a                 int64\n",
      "b                 int64\n",
      "c                 int64\n",
      "cb                int64\n",
      "d                 int64\n",
      "ds                int64\n",
      "gd                int64\n",
      "hd                int64\n",
      "i1                int64\n",
      "i2                int64\n",
      "i3                int64\n",
      "i4                int64\n",
      "kb                int64\n",
      "kc                int64\n",
      "kg                int64\n",
      "ki                int64\n",
      "kj                int64\n",
      "kk                int64\n",
      "kl                int64\n",
      "km                int64\n",
      "ko                int64\n",
      "kp                int64\n",
      "kt                int64\n",
      "ku                int64\n",
      "s                 int64\n",
      "sa                int64\n",
      "sb                int64\n",
      "sc                int64\n",
      "sd                int64\n",
      "case              int64\n",
      "unit_cost       float64\n",
      "dtype: object\n"
     ]
    }
   ],
   "source": [
    "print(case_cost.dtypes)"
   ]
  },
  {
   "cell_type": "code",
   "execution_count": 6,
   "id": "2f1dbce2",
   "metadata": {},
   "outputs": [
    {
     "name": "stdout",
     "output_type": "stream",
     "text": [
      "<class 'pandas.core.frame.DataFrame'>\n",
      "RangeIndex: 57971 entries, 0 to 57970\n",
      "Data columns (total 36 columns):\n",
      " #   Column        Non-Null Count  Dtype  \n",
      "---  ------        --------------  -----  \n",
      " 0   row_id        57971 non-null  int64  \n",
      " 1   tglpelayanan  57971 non-null  object \n",
      " 2   kddati2       57971 non-null  int64  \n",
      " 3   tkp           57971 non-null  int64  \n",
      " 4   peserta       57971 non-null  int64  \n",
      " 5   a             57971 non-null  int64  \n",
      " 6   b             57971 non-null  int64  \n",
      " 7   c             57971 non-null  int64  \n",
      " 8   cb            57971 non-null  int64  \n",
      " 9   d             57971 non-null  int64  \n",
      " 10  ds            57971 non-null  int64  \n",
      " 11  gd            57971 non-null  int64  \n",
      " 12  hd            57971 non-null  int64  \n",
      " 13  i1            57971 non-null  int64  \n",
      " 14  i2            57971 non-null  int64  \n",
      " 15  i3            57971 non-null  int64  \n",
      " 16  i4            57971 non-null  int64  \n",
      " 17  kb            57971 non-null  int64  \n",
      " 18  kc            57971 non-null  int64  \n",
      " 19  kg            57971 non-null  int64  \n",
      " 20  ki            57971 non-null  int64  \n",
      " 21  kj            57971 non-null  int64  \n",
      " 22  kk            57971 non-null  int64  \n",
      " 23  kl            57971 non-null  int64  \n",
      " 24  km            57971 non-null  int64  \n",
      " 25  ko            57971 non-null  int64  \n",
      " 26  kp            57971 non-null  int64  \n",
      " 27  kt            57971 non-null  int64  \n",
      " 28  ku            57971 non-null  int64  \n",
      " 29  s             57971 non-null  int64  \n",
      " 30  sa            57971 non-null  int64  \n",
      " 31  sb            57971 non-null  int64  \n",
      " 32  sc            57971 non-null  int64  \n",
      " 33  sd            57971 non-null  int64  \n",
      " 34  case          57971 non-null  int64  \n",
      " 35  unit_cost     57971 non-null  float64\n",
      "dtypes: float64(1), int64(34), object(1)\n",
      "memory usage: 15.9+ MB\n"
     ]
    }
   ],
   "source": [
    "case_cost.info()"
   ]
  },
  {
   "cell_type": "markdown",
   "id": "3c4a74e2",
   "metadata": {},
   "source": [
    "### Descripe Statistic Data"
   ]
  },
  {
   "cell_type": "code",
   "execution_count": 7,
   "id": "e61f1231",
   "metadata": {},
   "outputs": [
    {
     "data": {
      "text/html": [
       "<div>\n",
       "<style scoped>\n",
       "    .dataframe tbody tr th:only-of-type {\n",
       "        vertical-align: middle;\n",
       "    }\n",
       "\n",
       "    .dataframe tbody tr th {\n",
       "        vertical-align: top;\n",
       "    }\n",
       "\n",
       "    .dataframe thead th {\n",
       "        text-align: right;\n",
       "    }\n",
       "</style>\n",
       "<table border=\"1\" class=\"dataframe\">\n",
       "  <thead>\n",
       "    <tr style=\"text-align: right;\">\n",
       "      <th></th>\n",
       "      <th>row_id</th>\n",
       "      <th>tglpelayanan</th>\n",
       "      <th>kddati2</th>\n",
       "      <th>tkp</th>\n",
       "      <th>peserta</th>\n",
       "      <th>a</th>\n",
       "      <th>b</th>\n",
       "      <th>c</th>\n",
       "      <th>cb</th>\n",
       "      <th>d</th>\n",
       "      <th>...</th>\n",
       "      <th>kp</th>\n",
       "      <th>kt</th>\n",
       "      <th>ku</th>\n",
       "      <th>s</th>\n",
       "      <th>sa</th>\n",
       "      <th>sb</th>\n",
       "      <th>sc</th>\n",
       "      <th>sd</th>\n",
       "      <th>case</th>\n",
       "      <th>unit_cost</th>\n",
       "    </tr>\n",
       "  </thead>\n",
       "  <tbody>\n",
       "    <tr>\n",
       "      <th>count</th>\n",
       "      <td>57971.000000</td>\n",
       "      <td>57971</td>\n",
       "      <td>57971.000000</td>\n",
       "      <td>57971.000000</td>\n",
       "      <td>5.797100e+04</td>\n",
       "      <td>57971.000000</td>\n",
       "      <td>57971.000000</td>\n",
       "      <td>57971.000000</td>\n",
       "      <td>57971.000000</td>\n",
       "      <td>57971.000000</td>\n",
       "      <td>...</td>\n",
       "      <td>57971.000000</td>\n",
       "      <td>57971.000000</td>\n",
       "      <td>57971.000000</td>\n",
       "      <td>57971.000000</td>\n",
       "      <td>57971.000000</td>\n",
       "      <td>57971.000000</td>\n",
       "      <td>57971.000000</td>\n",
       "      <td>57971.000000</td>\n",
       "      <td>57971.000000</td>\n",
       "      <td>5.797100e+04</td>\n",
       "    </tr>\n",
       "    <tr>\n",
       "      <th>unique</th>\n",
       "      <td>NaN</td>\n",
       "      <td>90</td>\n",
       "      <td>NaN</td>\n",
       "      <td>NaN</td>\n",
       "      <td>NaN</td>\n",
       "      <td>NaN</td>\n",
       "      <td>NaN</td>\n",
       "      <td>NaN</td>\n",
       "      <td>NaN</td>\n",
       "      <td>NaN</td>\n",
       "      <td>...</td>\n",
       "      <td>NaN</td>\n",
       "      <td>NaN</td>\n",
       "      <td>NaN</td>\n",
       "      <td>NaN</td>\n",
       "      <td>NaN</td>\n",
       "      <td>NaN</td>\n",
       "      <td>NaN</td>\n",
       "      <td>NaN</td>\n",
       "      <td>NaN</td>\n",
       "      <td>NaN</td>\n",
       "    </tr>\n",
       "    <tr>\n",
       "      <th>top</th>\n",
       "      <td>NaN</td>\n",
       "      <td>7/1/2017 0:00</td>\n",
       "      <td>NaN</td>\n",
       "      <td>NaN</td>\n",
       "      <td>NaN</td>\n",
       "      <td>NaN</td>\n",
       "      <td>NaN</td>\n",
       "      <td>NaN</td>\n",
       "      <td>NaN</td>\n",
       "      <td>NaN</td>\n",
       "      <td>...</td>\n",
       "      <td>NaN</td>\n",
       "      <td>NaN</td>\n",
       "      <td>NaN</td>\n",
       "      <td>NaN</td>\n",
       "      <td>NaN</td>\n",
       "      <td>NaN</td>\n",
       "      <td>NaN</td>\n",
       "      <td>NaN</td>\n",
       "      <td>NaN</td>\n",
       "      <td>NaN</td>\n",
       "    </tr>\n",
       "    <tr>\n",
       "      <th>freq</th>\n",
       "      <td>NaN</td>\n",
       "      <td>715</td>\n",
       "      <td>NaN</td>\n",
       "      <td>NaN</td>\n",
       "      <td>NaN</td>\n",
       "      <td>NaN</td>\n",
       "      <td>NaN</td>\n",
       "      <td>NaN</td>\n",
       "      <td>NaN</td>\n",
       "      <td>NaN</td>\n",
       "      <td>...</td>\n",
       "      <td>NaN</td>\n",
       "      <td>NaN</td>\n",
       "      <td>NaN</td>\n",
       "      <td>NaN</td>\n",
       "      <td>NaN</td>\n",
       "      <td>NaN</td>\n",
       "      <td>NaN</td>\n",
       "      <td>NaN</td>\n",
       "      <td>NaN</td>\n",
       "      <td>NaN</td>\n",
       "    </tr>\n",
       "    <tr>\n",
       "      <th>mean</th>\n",
       "      <td>28986.000000</td>\n",
       "      <td>NaN</td>\n",
       "      <td>246.423125</td>\n",
       "      <td>34.990081</td>\n",
       "      <td>3.562209e+05</td>\n",
       "      <td>0.041538</td>\n",
       "      <td>0.388574</td>\n",
       "      <td>0.788894</td>\n",
       "      <td>0.000380</td>\n",
       "      <td>0.281710</td>\n",
       "      <td>...</td>\n",
       "      <td>0.039899</td>\n",
       "      <td>0.004330</td>\n",
       "      <td>0.001829</td>\n",
       "      <td>0.004123</td>\n",
       "      <td>0.002018</td>\n",
       "      <td>0.228476</td>\n",
       "      <td>0.953028</td>\n",
       "      <td>0.644943</td>\n",
       "      <td>6539.418451</td>\n",
       "      <td>1.961092e+06</td>\n",
       "    </tr>\n",
       "    <tr>\n",
       "      <th>std</th>\n",
       "      <td>16734.930565</td>\n",
       "      <td>NaN</td>\n",
       "      <td>143.447935</td>\n",
       "      <td>5.000033</td>\n",
       "      <td>4.120323e+05</td>\n",
       "      <td>0.210390</td>\n",
       "      <td>0.660382</td>\n",
       "      <td>0.679786</td>\n",
       "      <td>0.019477</td>\n",
       "      <td>0.595284</td>\n",
       "      <td>...</td>\n",
       "      <td>0.210092</td>\n",
       "      <td>0.065659</td>\n",
       "      <td>0.042722</td>\n",
       "      <td>0.082443</td>\n",
       "      <td>0.044880</td>\n",
       "      <td>0.925357</td>\n",
       "      <td>2.225974</td>\n",
       "      <td>1.234201</td>\n",
       "      <td>17607.280021</td>\n",
       "      <td>1.889367e+06</td>\n",
       "    </tr>\n",
       "    <tr>\n",
       "      <th>min</th>\n",
       "      <td>1.000000</td>\n",
       "      <td>NaN</td>\n",
       "      <td>1.000000</td>\n",
       "      <td>30.000000</td>\n",
       "      <td>8.000000e+00</td>\n",
       "      <td>0.000000</td>\n",
       "      <td>0.000000</td>\n",
       "      <td>0.000000</td>\n",
       "      <td>0.000000</td>\n",
       "      <td>0.000000</td>\n",
       "      <td>...</td>\n",
       "      <td>0.000000</td>\n",
       "      <td>0.000000</td>\n",
       "      <td>0.000000</td>\n",
       "      <td>0.000000</td>\n",
       "      <td>0.000000</td>\n",
       "      <td>0.000000</td>\n",
       "      <td>0.000000</td>\n",
       "      <td>0.000000</td>\n",
       "      <td>1.000000</td>\n",
       "      <td>1.000000e+05</td>\n",
       "    </tr>\n",
       "    <tr>\n",
       "      <th>25%</th>\n",
       "      <td>14493.500000</td>\n",
       "      <td>NaN</td>\n",
       "      <td>125.000000</td>\n",
       "      <td>30.000000</td>\n",
       "      <td>1.127735e+05</td>\n",
       "      <td>0.000000</td>\n",
       "      <td>0.000000</td>\n",
       "      <td>0.000000</td>\n",
       "      <td>0.000000</td>\n",
       "      <td>0.000000</td>\n",
       "      <td>...</td>\n",
       "      <td>0.000000</td>\n",
       "      <td>0.000000</td>\n",
       "      <td>0.000000</td>\n",
       "      <td>0.000000</td>\n",
       "      <td>0.000000</td>\n",
       "      <td>0.000000</td>\n",
       "      <td>0.000000</td>\n",
       "      <td>0.000000</td>\n",
       "      <td>424.000000</td>\n",
       "      <td>2.336742e+05</td>\n",
       "    </tr>\n",
       "    <tr>\n",
       "      <th>50%</th>\n",
       "      <td>28986.000000</td>\n",
       "      <td>NaN</td>\n",
       "      <td>243.000000</td>\n",
       "      <td>30.000000</td>\n",
       "      <td>1.975800e+05</td>\n",
       "      <td>0.000000</td>\n",
       "      <td>0.000000</td>\n",
       "      <td>1.000000</td>\n",
       "      <td>0.000000</td>\n",
       "      <td>0.000000</td>\n",
       "      <td>...</td>\n",
       "      <td>0.000000</td>\n",
       "      <td>0.000000</td>\n",
       "      <td>0.000000</td>\n",
       "      <td>0.000000</td>\n",
       "      <td>0.000000</td>\n",
       "      <td>0.000000</td>\n",
       "      <td>0.000000</td>\n",
       "      <td>0.000000</td>\n",
       "      <td>1359.000000</td>\n",
       "      <td>6.547994e+05</td>\n",
       "    </tr>\n",
       "    <tr>\n",
       "      <th>75%</th>\n",
       "      <td>43478.500000</td>\n",
       "      <td>NaN</td>\n",
       "      <td>362.000000</td>\n",
       "      <td>40.000000</td>\n",
       "      <td>4.386935e+05</td>\n",
       "      <td>0.000000</td>\n",
       "      <td>1.000000</td>\n",
       "      <td>1.000000</td>\n",
       "      <td>0.000000</td>\n",
       "      <td>0.000000</td>\n",
       "      <td>...</td>\n",
       "      <td>0.000000</td>\n",
       "      <td>0.000000</td>\n",
       "      <td>0.000000</td>\n",
       "      <td>0.000000</td>\n",
       "      <td>0.000000</td>\n",
       "      <td>0.000000</td>\n",
       "      <td>1.000000</td>\n",
       "      <td>1.000000</td>\n",
       "      <td>4583.000000</td>\n",
       "      <td>3.531702e+06</td>\n",
       "    </tr>\n",
       "    <tr>\n",
       "      <th>max</th>\n",
       "      <td>57971.000000</td>\n",
       "      <td>NaN</td>\n",
       "      <td>528.000000</td>\n",
       "      <td>40.000000</td>\n",
       "      <td>3.328509e+06</td>\n",
       "      <td>2.000000</td>\n",
       "      <td>8.000000</td>\n",
       "      <td>6.000000</td>\n",
       "      <td>1.000000</td>\n",
       "      <td>5.000000</td>\n",
       "      <td>...</td>\n",
       "      <td>2.000000</td>\n",
       "      <td>1.000000</td>\n",
       "      <td>1.000000</td>\n",
       "      <td>5.000000</td>\n",
       "      <td>1.000000</td>\n",
       "      <td>9.000000</td>\n",
       "      <td>25.000000</td>\n",
       "      <td>10.000000</td>\n",
       "      <td>333441.000000</td>\n",
       "      <td>2.690550e+07</td>\n",
       "    </tr>\n",
       "  </tbody>\n",
       "</table>\n",
       "<p>11 rows × 36 columns</p>\n",
       "</div>"
      ],
      "text/plain": [
       "              row_id   tglpelayanan       kddati2           tkp       peserta  \\\n",
       "count   57971.000000          57971  57971.000000  57971.000000  5.797100e+04   \n",
       "unique           NaN             90           NaN           NaN           NaN   \n",
       "top              NaN  7/1/2017 0:00           NaN           NaN           NaN   \n",
       "freq             NaN            715           NaN           NaN           NaN   \n",
       "mean    28986.000000            NaN    246.423125     34.990081  3.562209e+05   \n",
       "std     16734.930565            NaN    143.447935      5.000033  4.120323e+05   \n",
       "min         1.000000            NaN      1.000000     30.000000  8.000000e+00   \n",
       "25%     14493.500000            NaN    125.000000     30.000000  1.127735e+05   \n",
       "50%     28986.000000            NaN    243.000000     30.000000  1.975800e+05   \n",
       "75%     43478.500000            NaN    362.000000     40.000000  4.386935e+05   \n",
       "max     57971.000000            NaN    528.000000     40.000000  3.328509e+06   \n",
       "\n",
       "                   a             b             c            cb             d  \\\n",
       "count   57971.000000  57971.000000  57971.000000  57971.000000  57971.000000   \n",
       "unique           NaN           NaN           NaN           NaN           NaN   \n",
       "top              NaN           NaN           NaN           NaN           NaN   \n",
       "freq             NaN           NaN           NaN           NaN           NaN   \n",
       "mean        0.041538      0.388574      0.788894      0.000380      0.281710   \n",
       "std         0.210390      0.660382      0.679786      0.019477      0.595284   \n",
       "min         0.000000      0.000000      0.000000      0.000000      0.000000   \n",
       "25%         0.000000      0.000000      0.000000      0.000000      0.000000   \n",
       "50%         0.000000      0.000000      1.000000      0.000000      0.000000   \n",
       "75%         0.000000      1.000000      1.000000      0.000000      0.000000   \n",
       "max         2.000000      8.000000      6.000000      1.000000      5.000000   \n",
       "\n",
       "        ...            kp            kt            ku             s  \\\n",
       "count   ...  57971.000000  57971.000000  57971.000000  57971.000000   \n",
       "unique  ...           NaN           NaN           NaN           NaN   \n",
       "top     ...           NaN           NaN           NaN           NaN   \n",
       "freq    ...           NaN           NaN           NaN           NaN   \n",
       "mean    ...      0.039899      0.004330      0.001829      0.004123   \n",
       "std     ...      0.210092      0.065659      0.042722      0.082443   \n",
       "min     ...      0.000000      0.000000      0.000000      0.000000   \n",
       "25%     ...      0.000000      0.000000      0.000000      0.000000   \n",
       "50%     ...      0.000000      0.000000      0.000000      0.000000   \n",
       "75%     ...      0.000000      0.000000      0.000000      0.000000   \n",
       "max     ...      2.000000      1.000000      1.000000      5.000000   \n",
       "\n",
       "                  sa            sb            sc            sd           case  \\\n",
       "count   57971.000000  57971.000000  57971.000000  57971.000000   57971.000000   \n",
       "unique           NaN           NaN           NaN           NaN            NaN   \n",
       "top              NaN           NaN           NaN           NaN            NaN   \n",
       "freq             NaN           NaN           NaN           NaN            NaN   \n",
       "mean        0.002018      0.228476      0.953028      0.644943    6539.418451   \n",
       "std         0.044880      0.925357      2.225974      1.234201   17607.280021   \n",
       "min         0.000000      0.000000      0.000000      0.000000       1.000000   \n",
       "25%         0.000000      0.000000      0.000000      0.000000     424.000000   \n",
       "50%         0.000000      0.000000      0.000000      0.000000    1359.000000   \n",
       "75%         0.000000      0.000000      1.000000      1.000000    4583.000000   \n",
       "max         1.000000      9.000000     25.000000     10.000000  333441.000000   \n",
       "\n",
       "           unit_cost  \n",
       "count   5.797100e+04  \n",
       "unique           NaN  \n",
       "top              NaN  \n",
       "freq             NaN  \n",
       "mean    1.961092e+06  \n",
       "std     1.889367e+06  \n",
       "min     1.000000e+05  \n",
       "25%     2.336742e+05  \n",
       "50%     6.547994e+05  \n",
       "75%     3.531702e+06  \n",
       "max     2.690550e+07  \n",
       "\n",
       "[11 rows x 36 columns]"
      ]
     },
     "execution_count": 7,
     "metadata": {},
     "output_type": "execute_result"
    }
   ],
   "source": [
    "case_cost.describe(include='all')"
   ]
  },
  {
   "cell_type": "code",
   "execution_count": 8,
   "id": "749fc24e",
   "metadata": {},
   "outputs": [
    {
     "data": {
      "text/plain": [
       "count    57971.000000\n",
       "mean       246.423125\n",
       "std        143.447935\n",
       "min          1.000000\n",
       "25%        125.000000\n",
       "50%        243.000000\n",
       "75%        362.000000\n",
       "max        528.000000\n",
       "Name: kddati2, dtype: float64"
      ]
     },
     "execution_count": 8,
     "metadata": {},
     "output_type": "execute_result"
    }
   ],
   "source": [
    "case_cost['kddati2'].describe()"
   ]
  },
  {
   "cell_type": "code",
   "execution_count": 9,
   "id": "445646c2",
   "metadata": {},
   "outputs": [
    {
     "data": {
      "text/plain": [
       "count    57971.000000\n",
       "mean        34.990081\n",
       "std          5.000033\n",
       "min         30.000000\n",
       "25%         30.000000\n",
       "50%         30.000000\n",
       "75%         40.000000\n",
       "max         40.000000\n",
       "Name: tkp, dtype: float64"
      ]
     },
     "execution_count": 9,
     "metadata": {},
     "output_type": "execute_result"
    }
   ],
   "source": [
    "case_cost['tkp'].describe()"
   ]
  },
  {
   "cell_type": "code",
   "execution_count": 10,
   "id": "c613f575",
   "metadata": {},
   "outputs": [
    {
     "data": {
      "text/plain": [
       "count    5.797100e+04\n",
       "mean     3.562209e+05\n",
       "std      4.120323e+05\n",
       "min      8.000000e+00\n",
       "25%      1.127735e+05\n",
       "50%      1.975800e+05\n",
       "75%      4.386935e+05\n",
       "max      3.328509e+06\n",
       "Name: peserta, dtype: float64"
      ]
     },
     "execution_count": 10,
     "metadata": {},
     "output_type": "execute_result"
    }
   ],
   "source": [
    "case_cost['peserta'].describe()"
   ]
  },
  {
   "cell_type": "code",
   "execution_count": 11,
   "id": "a488200a",
   "metadata": {},
   "outputs": [
    {
     "data": {
      "text/plain": [
       "count     57971.000000\n",
       "mean       6539.418451\n",
       "std       17607.280021\n",
       "min           1.000000\n",
       "25%         424.000000\n",
       "50%        1359.000000\n",
       "75%        4583.000000\n",
       "max      333441.000000\n",
       "Name: case, dtype: float64"
      ]
     },
     "execution_count": 11,
     "metadata": {},
     "output_type": "execute_result"
    }
   ],
   "source": [
    "case_cost['case'].describe()"
   ]
  },
  {
   "cell_type": "code",
   "execution_count": 12,
   "id": "94a37ace",
   "metadata": {},
   "outputs": [
    {
     "data": {
      "text/plain": [
       "count    5.797100e+04\n",
       "mean     1.961092e+06\n",
       "std      1.889367e+06\n",
       "min      1.000000e+05\n",
       "25%      2.336742e+05\n",
       "50%      6.547994e+05\n",
       "75%      3.531702e+06\n",
       "max      2.690550e+07\n",
       "Name: unit_cost, dtype: float64"
      ]
     },
     "execution_count": 12,
     "metadata": {},
     "output_type": "execute_result"
    }
   ],
   "source": [
    "case_cost['unit_cost'].describe()"
   ]
  },
  {
   "cell_type": "code",
   "execution_count": 13,
   "id": "47299b5a",
   "metadata": {},
   "outputs": [
    {
     "name": "stderr",
     "output_type": "stream",
     "text": [
      "C:\\Users\\DIANMT~1\\AppData\\Local\\Temp/ipykernel_12452/2646893874.py:1: FutureWarning: Dropping of nuisance columns in DataFrame reductions (with 'numeric_only=None') is deprecated; in a future version this will raise TypeError.  Select only valid columns before calling the reduction.\n",
      "  case_cost.mean()\n"
     ]
    },
    {
     "data": {
      "text/plain": [
       "row_id       2.898600e+04\n",
       "kddati2      2.464231e+02\n",
       "tkp          3.499008e+01\n",
       "peserta      3.562209e+05\n",
       "a            4.153801e-02\n",
       "b            3.885736e-01\n",
       "c            7.888944e-01\n",
       "cb           3.795001e-04\n",
       "d            2.817098e-01\n",
       "ds           0.000000e+00\n",
       "gd           4.610926e-02\n",
       "hd           3.531076e-02\n",
       "i1           6.175502e-03\n",
       "i2           5.016301e-02\n",
       "i3           1.112970e-01\n",
       "i4           1.204568e-01\n",
       "kb           2.378776e-02\n",
       "kc           8.590502e-03\n",
       "kg           9.746252e-03\n",
       "ki           2.389643e-01\n",
       "kj           7.662452e-02\n",
       "kk           3.484501e-03\n",
       "kl           1.271670e-01\n",
       "km           7.151852e-02\n",
       "ko           3.950251e-03\n",
       "kp           3.989926e-02\n",
       "kt           4.329751e-03\n",
       "ku           1.828500e-03\n",
       "s            4.122751e-03\n",
       "sa           2.018251e-03\n",
       "sb           2.284763e-01\n",
       "sc           9.530282e-01\n",
       "sd           6.449432e-01\n",
       "case         6.539418e+03\n",
       "unit_cost    1.961092e+06\n",
       "dtype: float64"
      ]
     },
     "execution_count": 13,
     "metadata": {},
     "output_type": "execute_result"
    }
   ],
   "source": [
    "case_cost.mean()"
   ]
  },
  {
   "cell_type": "code",
   "execution_count": 14,
   "id": "f02fe75b",
   "metadata": {},
   "outputs": [
    {
     "data": {
      "text/plain": [
       "row_id                                                 1680347406\n",
       "tglpelayanan    4/1/2014 0:0011/1/2016 0:005/1/2016 0:0011/1/2...\n",
       "kddati2                                                  14285395\n",
       "tkp                                                       2028410\n",
       "peserta                                               20650478910\n",
       "a                                                            2408\n",
       "b                                                           22526\n",
       "c                                                           45733\n",
       "cb                                                             22\n",
       "d                                                           16331\n",
       "ds                                                              0\n",
       "gd                                                           2673\n",
       "hd                                                           2047\n",
       "i1                                                            358\n",
       "i2                                                           2908\n",
       "i3                                                           6452\n",
       "i4                                                           6983\n",
       "kb                                                           1379\n",
       "kc                                                            498\n",
       "kg                                                            565\n",
       "ki                                                          13853\n",
       "kj                                                           4442\n",
       "kk                                                            202\n",
       "kl                                                           7372\n",
       "km                                                           4146\n",
       "ko                                                            229\n",
       "kp                                                           2313\n",
       "kt                                                            251\n",
       "ku                                                            106\n",
       "s                                                             239\n",
       "sa                                                            117\n",
       "sb                                                          13245\n",
       "sc                                                          55248\n",
       "sd                                                          37388\n",
       "case                                                    379096627\n",
       "unit_cost                                     113686460688.582214\n",
       "dtype: object"
      ]
     },
     "execution_count": 14,
     "metadata": {},
     "output_type": "execute_result"
    }
   ],
   "source": [
    "case_cost.sum()"
   ]
  },
  {
   "cell_type": "code",
   "execution_count": 15,
   "id": "dd043acf",
   "metadata": {},
   "outputs": [
    {
     "name": "stderr",
     "output_type": "stream",
     "text": [
      "C:\\Users\\DIANMT~1\\AppData\\Local\\Temp/ipykernel_12452/2488611067.py:1: FutureWarning: Dropping of nuisance columns in DataFrame reductions (with 'numeric_only=None') is deprecated; in a future version this will raise TypeError.  Select only valid columns before calling the reduction.\n",
      "  case_cost.median()\n"
     ]
    },
    {
     "data": {
      "text/plain": [
       "row_id        28986.0000\n",
       "kddati2         243.0000\n",
       "tkp              30.0000\n",
       "peserta      197580.0000\n",
       "a                 0.0000\n",
       "b                 0.0000\n",
       "c                 1.0000\n",
       "cb                0.0000\n",
       "d                 0.0000\n",
       "ds                0.0000\n",
       "gd                0.0000\n",
       "hd                0.0000\n",
       "i1                0.0000\n",
       "i2                0.0000\n",
       "i3                0.0000\n",
       "i4                0.0000\n",
       "kb                0.0000\n",
       "kc                0.0000\n",
       "kg                0.0000\n",
       "ki                0.0000\n",
       "kj                0.0000\n",
       "kk                0.0000\n",
       "kl                0.0000\n",
       "km                0.0000\n",
       "ko                0.0000\n",
       "kp                0.0000\n",
       "kt                0.0000\n",
       "ku                0.0000\n",
       "s                 0.0000\n",
       "sa                0.0000\n",
       "sb                0.0000\n",
       "sc                0.0000\n",
       "sd                0.0000\n",
       "case           1359.0000\n",
       "unit_cost    654799.4467\n",
       "dtype: float64"
      ]
     },
     "execution_count": 15,
     "metadata": {},
     "output_type": "execute_result"
    }
   ],
   "source": [
    "case_cost.median()"
   ]
  },
  {
   "cell_type": "code",
   "execution_count": 16,
   "id": "721919a3",
   "metadata": {
    "scrolled": false
   },
   "outputs": [
    {
     "name": "stderr",
     "output_type": "stream",
     "text": [
      "C:\\Users\\DIANMT~1\\AppData\\Local\\Temp/ipykernel_12452/4108202680.py:1: FutureWarning: Dropping of nuisance columns in DataFrame reductions (with 'numeric_only=None') is deprecated; in a future version this will raise TypeError.  Select only valid columns before calling the reduction.\n",
      "  case_cost.std()\n"
     ]
    },
    {
     "data": {
      "text/plain": [
       "row_id       1.673493e+04\n",
       "kddati2      1.434479e+02\n",
       "tkp          5.000033e+00\n",
       "peserta      4.120323e+05\n",
       "a            2.103898e-01\n",
       "b            6.603823e-01\n",
       "c            6.797864e-01\n",
       "cb           1.947723e-02\n",
       "d            5.952836e-01\n",
       "ds           0.000000e+00\n",
       "gd           3.277660e-01\n",
       "hd           2.739548e-01\n",
       "i1           7.834201e-02\n",
       "i2           2.619616e-01\n",
       "i3           3.850293e-01\n",
       "i4           3.632661e-01\n",
       "kb           1.621507e-01\n",
       "kc           9.228679e-02\n",
       "kg           1.262162e-01\n",
       "ki           7.962807e-01\n",
       "kj           2.830876e-01\n",
       "kk           5.892723e-02\n",
       "kl           4.323180e-01\n",
       "km           3.459389e-01\n",
       "ko           6.272730e-02\n",
       "kp           2.100918e-01\n",
       "kt           6.565881e-02\n",
       "ku           4.272223e-02\n",
       "s            8.244314e-02\n",
       "sa           4.487997e-02\n",
       "sb           9.253566e-01\n",
       "sc           2.225974e+00\n",
       "sd           1.234201e+00\n",
       "case         1.760728e+04\n",
       "unit_cost    1.889367e+06\n",
       "dtype: float64"
      ]
     },
     "execution_count": 16,
     "metadata": {},
     "output_type": "execute_result"
    }
   ],
   "source": [
    "case_cost.std()"
   ]
  },
  {
   "cell_type": "code",
   "execution_count": 17,
   "id": "5dd6f748",
   "metadata": {
    "scrolled": true
   },
   "outputs": [
    {
     "data": {
      "text/plain": [
       "row_id       4.347850e+04\n",
       "kddati2      3.620000e+02\n",
       "tkp          4.000000e+01\n",
       "peserta      4.386935e+05\n",
       "a            0.000000e+00\n",
       "b            1.000000e+00\n",
       "c            1.000000e+00\n",
       "cb           0.000000e+00\n",
       "d            0.000000e+00\n",
       "ds           0.000000e+00\n",
       "gd           0.000000e+00\n",
       "hd           0.000000e+00\n",
       "i1           0.000000e+00\n",
       "i2           0.000000e+00\n",
       "i3           0.000000e+00\n",
       "i4           0.000000e+00\n",
       "kb           0.000000e+00\n",
       "kc           0.000000e+00\n",
       "kg           0.000000e+00\n",
       "ki           0.000000e+00\n",
       "kj           0.000000e+00\n",
       "kk           0.000000e+00\n",
       "kl           0.000000e+00\n",
       "km           0.000000e+00\n",
       "ko           0.000000e+00\n",
       "kp           0.000000e+00\n",
       "kt           0.000000e+00\n",
       "ku           0.000000e+00\n",
       "s            0.000000e+00\n",
       "sa           0.000000e+00\n",
       "sb           0.000000e+00\n",
       "sc           1.000000e+00\n",
       "sd           1.000000e+00\n",
       "case         4.583000e+03\n",
       "unit_cost    3.531702e+06\n",
       "Name: 0.75, dtype: float64"
      ]
     },
     "execution_count": 17,
     "metadata": {},
     "output_type": "execute_result"
    }
   ],
   "source": [
    "case_cost.quantile(0.75)"
   ]
  },
  {
   "cell_type": "code",
   "execution_count": 18,
   "id": "4495d70f",
   "metadata": {},
   "outputs": [
    {
     "data": {
      "text/plain": [
       "row_id       2.898500e+04\n",
       "kddati2      2.370000e+02\n",
       "tkp          1.000000e+01\n",
       "peserta      3.259200e+05\n",
       "a            0.000000e+00\n",
       "b            1.000000e+00\n",
       "c            1.000000e+00\n",
       "cb           0.000000e+00\n",
       "d            0.000000e+00\n",
       "ds           0.000000e+00\n",
       "gd           0.000000e+00\n",
       "hd           0.000000e+00\n",
       "i1           0.000000e+00\n",
       "i2           0.000000e+00\n",
       "i3           0.000000e+00\n",
       "i4           0.000000e+00\n",
       "kb           0.000000e+00\n",
       "kc           0.000000e+00\n",
       "kg           0.000000e+00\n",
       "ki           0.000000e+00\n",
       "kj           0.000000e+00\n",
       "kk           0.000000e+00\n",
       "kl           0.000000e+00\n",
       "km           0.000000e+00\n",
       "ko           0.000000e+00\n",
       "kp           0.000000e+00\n",
       "kt           0.000000e+00\n",
       "ku           0.000000e+00\n",
       "s            0.000000e+00\n",
       "sa           0.000000e+00\n",
       "sb           0.000000e+00\n",
       "sc           1.000000e+00\n",
       "sd           1.000000e+00\n",
       "case         4.159000e+03\n",
       "unit_cost    3.298027e+06\n",
       "dtype: float64"
      ]
     },
     "execution_count": 18,
     "metadata": {},
     "output_type": "execute_result"
    }
   ],
   "source": [
    "q1 = case_cost.quantile(0.25)\n",
    "q3 = case_cost.quantile(0.75)\n",
    "iqr = q3 - q1\n",
    "iqr"
   ]
  },
  {
   "cell_type": "code",
   "execution_count": 19,
   "id": "db9bfdbd",
   "metadata": {},
   "outputs": [],
   "source": [
    "case_align, iqr_new = case_cost.align(iqr, axis=1, copy=False, join='outer')"
   ]
  },
  {
   "cell_type": "code",
   "execution_count": 20,
   "id": "1e45bc0e",
   "metadata": {},
   "outputs": [
    {
     "name": "stderr",
     "output_type": "stream",
     "text": [
      "C:\\Users\\DIANMT~1\\AppData\\Local\\Temp/ipykernel_12452/266269558.py:1: FutureWarning: Automatic reindexing on DataFrame vs Series comparisons is deprecated and will raise ValueError in a future version.  Do `left, right = left.align(right, axis=1, copy=False)` before e.g. `left == right`\n",
      "  outliers = case_cost[((case_cost<(q1-1.5*iqr)) | (case_cost>(q3+1.5*iqr)))]\n"
     ]
    },
    {
     "data": {
      "text/html": [
       "<div>\n",
       "<style scoped>\n",
       "    .dataframe tbody tr th:only-of-type {\n",
       "        vertical-align: middle;\n",
       "    }\n",
       "\n",
       "    .dataframe tbody tr th {\n",
       "        vertical-align: top;\n",
       "    }\n",
       "\n",
       "    .dataframe thead th {\n",
       "        text-align: right;\n",
       "    }\n",
       "</style>\n",
       "<table border=\"1\" class=\"dataframe\">\n",
       "  <thead>\n",
       "    <tr style=\"text-align: right;\">\n",
       "      <th></th>\n",
       "      <th>row_id</th>\n",
       "      <th>tglpelayanan</th>\n",
       "      <th>kddati2</th>\n",
       "      <th>tkp</th>\n",
       "      <th>peserta</th>\n",
       "      <th>a</th>\n",
       "      <th>b</th>\n",
       "      <th>c</th>\n",
       "      <th>cb</th>\n",
       "      <th>d</th>\n",
       "      <th>...</th>\n",
       "      <th>kp</th>\n",
       "      <th>kt</th>\n",
       "      <th>ku</th>\n",
       "      <th>s</th>\n",
       "      <th>sa</th>\n",
       "      <th>sb</th>\n",
       "      <th>sc</th>\n",
       "      <th>sd</th>\n",
       "      <th>case</th>\n",
       "      <th>unit_cost</th>\n",
       "    </tr>\n",
       "  </thead>\n",
       "  <tbody>\n",
       "    <tr>\n",
       "      <th>0</th>\n",
       "      <td>NaN</td>\n",
       "      <td>NaN</td>\n",
       "      <td>NaN</td>\n",
       "      <td>NaN</td>\n",
       "      <td>NaN</td>\n",
       "      <td>NaN</td>\n",
       "      <td>NaN</td>\n",
       "      <td>NaN</td>\n",
       "      <td>NaN</td>\n",
       "      <td>1.0</td>\n",
       "      <td>...</td>\n",
       "      <td>NaN</td>\n",
       "      <td>NaN</td>\n",
       "      <td>NaN</td>\n",
       "      <td>NaN</td>\n",
       "      <td>NaN</td>\n",
       "      <td>NaN</td>\n",
       "      <td>NaN</td>\n",
       "      <td>NaN</td>\n",
       "      <td>NaN</td>\n",
       "      <td>NaN</td>\n",
       "    </tr>\n",
       "    <tr>\n",
       "      <th>1</th>\n",
       "      <td>NaN</td>\n",
       "      <td>NaN</td>\n",
       "      <td>NaN</td>\n",
       "      <td>NaN</td>\n",
       "      <td>NaN</td>\n",
       "      <td>NaN</td>\n",
       "      <td>NaN</td>\n",
       "      <td>NaN</td>\n",
       "      <td>NaN</td>\n",
       "      <td>NaN</td>\n",
       "      <td>...</td>\n",
       "      <td>NaN</td>\n",
       "      <td>NaN</td>\n",
       "      <td>1.0</td>\n",
       "      <td>NaN</td>\n",
       "      <td>NaN</td>\n",
       "      <td>NaN</td>\n",
       "      <td>NaN</td>\n",
       "      <td>NaN</td>\n",
       "      <td>NaN</td>\n",
       "      <td>NaN</td>\n",
       "    </tr>\n",
       "    <tr>\n",
       "      <th>2</th>\n",
       "      <td>NaN</td>\n",
       "      <td>NaN</td>\n",
       "      <td>NaN</td>\n",
       "      <td>NaN</td>\n",
       "      <td>NaN</td>\n",
       "      <td>NaN</td>\n",
       "      <td>NaN</td>\n",
       "      <td>NaN</td>\n",
       "      <td>NaN</td>\n",
       "      <td>NaN</td>\n",
       "      <td>...</td>\n",
       "      <td>NaN</td>\n",
       "      <td>NaN</td>\n",
       "      <td>NaN</td>\n",
       "      <td>NaN</td>\n",
       "      <td>NaN</td>\n",
       "      <td>NaN</td>\n",
       "      <td>NaN</td>\n",
       "      <td>NaN</td>\n",
       "      <td>NaN</td>\n",
       "      <td>NaN</td>\n",
       "    </tr>\n",
       "    <tr>\n",
       "      <th>3</th>\n",
       "      <td>NaN</td>\n",
       "      <td>NaN</td>\n",
       "      <td>NaN</td>\n",
       "      <td>NaN</td>\n",
       "      <td>NaN</td>\n",
       "      <td>NaN</td>\n",
       "      <td>NaN</td>\n",
       "      <td>NaN</td>\n",
       "      <td>NaN</td>\n",
       "      <td>NaN</td>\n",
       "      <td>...</td>\n",
       "      <td>NaN</td>\n",
       "      <td>NaN</td>\n",
       "      <td>NaN</td>\n",
       "      <td>NaN</td>\n",
       "      <td>NaN</td>\n",
       "      <td>NaN</td>\n",
       "      <td>NaN</td>\n",
       "      <td>3.0</td>\n",
       "      <td>NaN</td>\n",
       "      <td>NaN</td>\n",
       "    </tr>\n",
       "    <tr>\n",
       "      <th>4</th>\n",
       "      <td>NaN</td>\n",
       "      <td>NaN</td>\n",
       "      <td>NaN</td>\n",
       "      <td>NaN</td>\n",
       "      <td>1199321.0</td>\n",
       "      <td>1.0</td>\n",
       "      <td>NaN</td>\n",
       "      <td>NaN</td>\n",
       "      <td>NaN</td>\n",
       "      <td>NaN</td>\n",
       "      <td>...</td>\n",
       "      <td>1.0</td>\n",
       "      <td>NaN</td>\n",
       "      <td>NaN</td>\n",
       "      <td>NaN</td>\n",
       "      <td>NaN</td>\n",
       "      <td>1.0</td>\n",
       "      <td>NaN</td>\n",
       "      <td>5.0</td>\n",
       "      <td>73056.0</td>\n",
       "      <td>NaN</td>\n",
       "    </tr>\n",
       "    <tr>\n",
       "      <th>...</th>\n",
       "      <td>...</td>\n",
       "      <td>...</td>\n",
       "      <td>...</td>\n",
       "      <td>...</td>\n",
       "      <td>...</td>\n",
       "      <td>...</td>\n",
       "      <td>...</td>\n",
       "      <td>...</td>\n",
       "      <td>...</td>\n",
       "      <td>...</td>\n",
       "      <td>...</td>\n",
       "      <td>...</td>\n",
       "      <td>...</td>\n",
       "      <td>...</td>\n",
       "      <td>...</td>\n",
       "      <td>...</td>\n",
       "      <td>...</td>\n",
       "      <td>...</td>\n",
       "      <td>...</td>\n",
       "      <td>...</td>\n",
       "      <td>...</td>\n",
       "    </tr>\n",
       "    <tr>\n",
       "      <th>57966</th>\n",
       "      <td>NaN</td>\n",
       "      <td>NaN</td>\n",
       "      <td>NaN</td>\n",
       "      <td>NaN</td>\n",
       "      <td>NaN</td>\n",
       "      <td>NaN</td>\n",
       "      <td>NaN</td>\n",
       "      <td>NaN</td>\n",
       "      <td>NaN</td>\n",
       "      <td>NaN</td>\n",
       "      <td>...</td>\n",
       "      <td>NaN</td>\n",
       "      <td>NaN</td>\n",
       "      <td>NaN</td>\n",
       "      <td>NaN</td>\n",
       "      <td>NaN</td>\n",
       "      <td>NaN</td>\n",
       "      <td>NaN</td>\n",
       "      <td>NaN</td>\n",
       "      <td>NaN</td>\n",
       "      <td>NaN</td>\n",
       "    </tr>\n",
       "    <tr>\n",
       "      <th>57967</th>\n",
       "      <td>NaN</td>\n",
       "      <td>NaN</td>\n",
       "      <td>NaN</td>\n",
       "      <td>NaN</td>\n",
       "      <td>NaN</td>\n",
       "      <td>NaN</td>\n",
       "      <td>NaN</td>\n",
       "      <td>NaN</td>\n",
       "      <td>NaN</td>\n",
       "      <td>NaN</td>\n",
       "      <td>...</td>\n",
       "      <td>NaN</td>\n",
       "      <td>NaN</td>\n",
       "      <td>NaN</td>\n",
       "      <td>NaN</td>\n",
       "      <td>NaN</td>\n",
       "      <td>NaN</td>\n",
       "      <td>NaN</td>\n",
       "      <td>NaN</td>\n",
       "      <td>NaN</td>\n",
       "      <td>NaN</td>\n",
       "    </tr>\n",
       "    <tr>\n",
       "      <th>57968</th>\n",
       "      <td>NaN</td>\n",
       "      <td>NaN</td>\n",
       "      <td>NaN</td>\n",
       "      <td>NaN</td>\n",
       "      <td>NaN</td>\n",
       "      <td>NaN</td>\n",
       "      <td>NaN</td>\n",
       "      <td>NaN</td>\n",
       "      <td>NaN</td>\n",
       "      <td>NaN</td>\n",
       "      <td>...</td>\n",
       "      <td>NaN</td>\n",
       "      <td>NaN</td>\n",
       "      <td>NaN</td>\n",
       "      <td>NaN</td>\n",
       "      <td>NaN</td>\n",
       "      <td>NaN</td>\n",
       "      <td>NaN</td>\n",
       "      <td>NaN</td>\n",
       "      <td>NaN</td>\n",
       "      <td>NaN</td>\n",
       "    </tr>\n",
       "    <tr>\n",
       "      <th>57969</th>\n",
       "      <td>NaN</td>\n",
       "      <td>NaN</td>\n",
       "      <td>NaN</td>\n",
       "      <td>NaN</td>\n",
       "      <td>NaN</td>\n",
       "      <td>NaN</td>\n",
       "      <td>NaN</td>\n",
       "      <td>NaN</td>\n",
       "      <td>NaN</td>\n",
       "      <td>NaN</td>\n",
       "      <td>...</td>\n",
       "      <td>NaN</td>\n",
       "      <td>NaN</td>\n",
       "      <td>NaN</td>\n",
       "      <td>NaN</td>\n",
       "      <td>NaN</td>\n",
       "      <td>NaN</td>\n",
       "      <td>NaN</td>\n",
       "      <td>NaN</td>\n",
       "      <td>NaN</td>\n",
       "      <td>NaN</td>\n",
       "    </tr>\n",
       "    <tr>\n",
       "      <th>57970</th>\n",
       "      <td>NaN</td>\n",
       "      <td>NaN</td>\n",
       "      <td>NaN</td>\n",
       "      <td>NaN</td>\n",
       "      <td>NaN</td>\n",
       "      <td>NaN</td>\n",
       "      <td>NaN</td>\n",
       "      <td>NaN</td>\n",
       "      <td>NaN</td>\n",
       "      <td>NaN</td>\n",
       "      <td>...</td>\n",
       "      <td>NaN</td>\n",
       "      <td>NaN</td>\n",
       "      <td>NaN</td>\n",
       "      <td>NaN</td>\n",
       "      <td>NaN</td>\n",
       "      <td>1.0</td>\n",
       "      <td>NaN</td>\n",
       "      <td>NaN</td>\n",
       "      <td>16679.0</td>\n",
       "      <td>NaN</td>\n",
       "    </tr>\n",
       "  </tbody>\n",
       "</table>\n",
       "<p>57971 rows × 36 columns</p>\n",
       "</div>"
      ],
      "text/plain": [
       "       row_id tglpelayanan  kddati2  tkp    peserta    a   b   c  cb    d  \\\n",
       "0         NaN          NaN      NaN  NaN        NaN  NaN NaN NaN NaN  1.0   \n",
       "1         NaN          NaN      NaN  NaN        NaN  NaN NaN NaN NaN  NaN   \n",
       "2         NaN          NaN      NaN  NaN        NaN  NaN NaN NaN NaN  NaN   \n",
       "3         NaN          NaN      NaN  NaN        NaN  NaN NaN NaN NaN  NaN   \n",
       "4         NaN          NaN      NaN  NaN  1199321.0  1.0 NaN NaN NaN  NaN   \n",
       "...       ...          ...      ...  ...        ...  ...  ..  ..  ..  ...   \n",
       "57966     NaN          NaN      NaN  NaN        NaN  NaN NaN NaN NaN  NaN   \n",
       "57967     NaN          NaN      NaN  NaN        NaN  NaN NaN NaN NaN  NaN   \n",
       "57968     NaN          NaN      NaN  NaN        NaN  NaN NaN NaN NaN  NaN   \n",
       "57969     NaN          NaN      NaN  NaN        NaN  NaN NaN NaN NaN  NaN   \n",
       "57970     NaN          NaN      NaN  NaN        NaN  NaN NaN NaN NaN  NaN   \n",
       "\n",
       "       ...   kp  kt   ku   s  sa   sb  sc   sd     case  unit_cost  \n",
       "0      ...  NaN NaN  NaN NaN NaN  NaN NaN  NaN      NaN        NaN  \n",
       "1      ...  NaN NaN  1.0 NaN NaN  NaN NaN  NaN      NaN        NaN  \n",
       "2      ...  NaN NaN  NaN NaN NaN  NaN NaN  NaN      NaN        NaN  \n",
       "3      ...  NaN NaN  NaN NaN NaN  NaN NaN  3.0      NaN        NaN  \n",
       "4      ...  1.0 NaN  NaN NaN NaN  1.0 NaN  5.0  73056.0        NaN  \n",
       "...    ...  ...  ..  ...  ..  ..  ...  ..  ...      ...        ...  \n",
       "57966  ...  NaN NaN  NaN NaN NaN  NaN NaN  NaN      NaN        NaN  \n",
       "57967  ...  NaN NaN  NaN NaN NaN  NaN NaN  NaN      NaN        NaN  \n",
       "57968  ...  NaN NaN  NaN NaN NaN  NaN NaN  NaN      NaN        NaN  \n",
       "57969  ...  NaN NaN  NaN NaN NaN  NaN NaN  NaN      NaN        NaN  \n",
       "57970  ...  NaN NaN  NaN NaN NaN  1.0 NaN  NaN  16679.0        NaN  \n",
       "\n",
       "[57971 rows x 36 columns]"
      ]
     },
     "execution_count": 20,
     "metadata": {},
     "output_type": "execute_result"
    }
   ],
   "source": [
    "outliers = case_cost[((case_cost<(q1-1.5*iqr)) | (case_cost>(q3+1.5*iqr)))]\n",
    "outliers"
   ]
  },
  {
   "cell_type": "markdown",
   "id": "52cb34cf",
   "metadata": {},
   "source": [
    "## DATA PREPARATION"
   ]
  },
  {
   "cell_type": "markdown",
   "id": "c01efecf",
   "metadata": {},
   "source": [
    "Recode/Replace "
   ]
  },
  {
   "cell_type": "code",
   "execution_count": 21,
   "id": "2a5b2423",
   "metadata": {},
   "outputs": [
    {
     "name": "stdout",
     "output_type": "stream",
     "text": [
      "   row_id    tglpelayanan  kddati2  tkp  peserta\n",
      "0       1   4/1/2014 0:00      332   40   179530\n",
      "1       2  11/1/2016 0:00       54   40   104782\n",
      "2       3   5/1/2016 0:00      323   30   280645\n",
      "3       4  11/1/2018 0:00      318   40   178685\n",
      "4       5  10/1/2019 0:00      150   30  1199321\n",
      "5       6  10/1/2014 0:00       37   40   110377\n",
      "6       7   5/1/2020 0:00      379   40   105699\n",
      "7       8   9/1/2015 0:00      110   40   152065\n",
      "8       9   3/1/2015 0:00      303   30   179081\n",
      "9      10  11/1/2017 0:00       49   30   227227\n"
     ]
    }
   ],
   "source": [
    "print(case_cost.fillna(0).iloc[0:10, 0:5])"
   ]
  },
  {
   "cell_type": "markdown",
   "id": "8f1cbe10",
   "metadata": {},
   "source": [
    "Fill Forward"
   ]
  },
  {
   "cell_type": "code",
   "execution_count": 22,
   "id": "55fa82b5",
   "metadata": {},
   "outputs": [
    {
     "name": "stdout",
     "output_type": "stream",
     "text": [
      "   row_id    tglpelayanan  kddati2  tkp  peserta\n",
      "0       1   4/1/2014 0:00      332   40   179530\n",
      "1       2  11/1/2016 0:00       54   40   104782\n",
      "2       3   5/1/2016 0:00      323   30   280645\n",
      "3       4  11/1/2018 0:00      318   40   178685\n",
      "4       5  10/1/2019 0:00      150   30  1199321\n",
      "5       6  10/1/2014 0:00       37   40   110377\n",
      "6       7   5/1/2020 0:00      379   40   105699\n",
      "7       8   9/1/2015 0:00      110   40   152065\n",
      "8       9   3/1/2015 0:00      303   30   179081\n",
      "9      10  11/1/2017 0:00       49   30   227227\n"
     ]
    }
   ],
   "source": [
    "print(case_cost.fillna(method='ffill').iloc[0:10, 0:5]) "
   ]
  },
  {
   "cell_type": "markdown",
   "id": "05dd36eb",
   "metadata": {},
   "source": [
    "Fill Backward"
   ]
  },
  {
   "cell_type": "code",
   "execution_count": 23,
   "id": "5a60568c",
   "metadata": {},
   "outputs": [
    {
     "name": "stdout",
     "output_type": "stream",
     "text": [
      "       row_id   tglpelayanan  kddati2  tkp  peserta\n",
      "57966   57967  3/1/2019 0:00      241   40   157213\n",
      "57967   57968  9/1/2019 0:00      338   30   402173\n",
      "57968   57969  6/1/2016 0:00      241   40    99401\n",
      "57969   57970  1/1/2018 0:00      147   40   509495\n",
      "57970   57971  9/1/2016 0:00      204   30   770169\n"
     ]
    }
   ],
   "source": [
    "print(case_cost.fillna(method='bfill').iloc[:,0:5].tail()) "
   ]
  },
  {
   "cell_type": "markdown",
   "id": "2474429b",
   "metadata": {},
   "source": [
    "Interpolate"
   ]
  },
  {
   "cell_type": "code",
   "execution_count": 24,
   "id": "c6c45854",
   "metadata": {},
   "outputs": [
    {
     "name": "stdout",
     "output_type": "stream",
     "text": [
      "   row_id    tglpelayanan  kddati2  tkp  peserta\n",
      "0       1   4/1/2014 0:00      332   40   179530\n",
      "1       2  11/1/2016 0:00       54   40   104782\n",
      "2       3   5/1/2016 0:00      323   30   280645\n",
      "3       4  11/1/2018 0:00      318   40   178685\n",
      "4       5  10/1/2019 0:00      150   30  1199321\n",
      "5       6  10/1/2014 0:00       37   40   110377\n",
      "6       7   5/1/2020 0:00      379   40   105699\n",
      "7       8   9/1/2015 0:00      110   40   152065\n",
      "8       9   3/1/2015 0:00      303   30   179081\n",
      "9      10  11/1/2017 0:00       49   30   227227\n"
     ]
    }
   ],
   "source": [
    "print(case_cost.interpolate().iloc[0:10,0:5])"
   ]
  },
  {
   "cell_type": "markdown",
   "id": "53a0ed6d",
   "metadata": {},
   "source": [
    "Drop Missing Values"
   ]
  },
  {
   "cell_type": "code",
   "execution_count": 25,
   "id": "e7bf4b79",
   "metadata": {},
   "outputs": [
    {
     "name": "stdout",
     "output_type": "stream",
     "text": [
      "(57971, 36)\n"
     ]
    }
   ],
   "source": [
    "print(case_cost.shape)"
   ]
  },
  {
   "cell_type": "code",
   "execution_count": 26,
   "id": "acb7fda4",
   "metadata": {},
   "outputs": [
    {
     "name": "stdout",
     "output_type": "stream",
     "text": [
      "(57971, 36)\n"
     ]
    }
   ],
   "source": [
    "case_dropna = case_cost.dropna()\n",
    "print(case_dropna.shape)"
   ]
  },
  {
   "cell_type": "code",
   "execution_count": 27,
   "id": "3365877d",
   "metadata": {},
   "outputs": [
    {
     "name": "stdout",
     "output_type": "stream",
     "text": [
      "       row_id    tglpelayanan  kddati2  tkp  peserta  a  b  c  cb  d  ...  kp  \\\n",
      "0           1   4/1/2014 0:00      332   40   179530  0  0  1   0  1  ...   0   \n",
      "1           2  11/1/2016 0:00       54   40   104782  0  1  0   0  0  ...   0   \n",
      "2           3   5/1/2016 0:00      323   30   280645  0  0  1   0  0  ...   0   \n",
      "3           4  11/1/2018 0:00      318   40   178685  0  1  0   0  0  ...   0   \n",
      "4           5  10/1/2019 0:00      150   30  1199321  1  0  1   0  0  ...   1   \n",
      "...       ...             ...      ...  ...      ... .. .. ..  .. ..  ...  ..   \n",
      "57966   57967   3/1/2019 0:00      241   40   157213  0  0  1   0  0  ...   0   \n",
      "57967   57968   9/1/2019 0:00      338   30   402173  0  0  1   0  0  ...   0   \n",
      "57968   57969   6/1/2016 0:00      241   40    99401  0  0  1   0  0  ...   0   \n",
      "57969   57970   1/1/2018 0:00      147   40   509495  0  0  1   0  0  ...   0   \n",
      "57970   57971   9/1/2016 0:00      204   30   770169  0  1  1   0  0  ...   0   \n",
      "\n",
      "       kt  ku  s  sa  sb  sc  sd   case     unit_cost  \n",
      "0       0   0  0   0   0   0   0    266  3.597440e+06  \n",
      "1       0   1  0   0   0   1   1   2453  4.951008e+06  \n",
      "2       0   0  0   0   0   0   0   1690  1.984208e+05  \n",
      "3       0   0  0   0   0   0   3   1321  4.008756e+06  \n",
      "4       0   0  0   0   1   0   5  73056  3.072272e+05  \n",
      "...    ..  .. ..  ..  ..  ..  ..    ...           ...  \n",
      "57966   0   0  0   0   0   0   0    410  3.443332e+06  \n",
      "57967   0   0  0   0   0   0   0   8272  2.128621e+05  \n",
      "57968   0   0  0   0   0   0   0    294  3.028611e+06  \n",
      "57969   0   0  0   0   0   2   0   1983  3.629365e+06  \n",
      "57970   0   0  0   0   1   2   1  16679  2.956852e+05  \n",
      "\n",
      "[57971 rows x 36 columns]\n"
     ]
    }
   ],
   "source": [
    "print(case_dropna)"
   ]
  },
  {
   "cell_type": "markdown",
   "id": "894c09e2",
   "metadata": {},
   "source": [
    "### Handling Noisy Data"
   ]
  },
  {
   "cell_type": "code",
   "execution_count": 28,
   "id": "fd66d7da",
   "metadata": {},
   "outputs": [
    {
     "name": "stdout",
     "output_type": "stream",
     "text": [
      "\n",
      "Numpy Array\n",
      "----------\n",
      " [332  54 323 ... 241 147 204]\n"
     ]
    }
   ],
   "source": [
    "arr = case_cost.kddati2.to_numpy()\n",
    "print('\\nNumpy Array\\n----------\\n', arr)"
   ]
  },
  {
   "cell_type": "code",
   "execution_count": 29,
   "id": "23209c0c",
   "metadata": {},
   "outputs": [],
   "source": [
    "vector = np.vectorize(np.int_)\n",
    "x = vector(arr)"
   ]
  },
  {
   "cell_type": "code",
   "execution_count": 30,
   "id": "b2570c23",
   "metadata": {},
   "outputs": [],
   "source": [
    "sort_arr = np.sort(arr)"
   ]
  },
  {
   "cell_type": "code",
   "execution_count": 31,
   "id": "28dcc7da",
   "metadata": {},
   "outputs": [],
   "source": [
    "# create bins\n",
    "bin_mean = np.zeros((3,4)) \n",
    "bin_boundaries = np.zeros((3,4))\n",
    "bin_median = np.zeros((3,4)) \n",
    "# Fungsi di atas untuk menginisiasi kerajang atau bin"
   ]
  },
  {
   "cell_type": "code",
   "execution_count": 32,
   "id": "4b02fcc4",
   "metadata": {},
   "outputs": [
    {
     "name": "stdout",
     "output_type": "stream",
     "text": [
      "Bin Mean: \n",
      " [[1. 1. 1. 1.]\n",
      " [1. 1. 1. 1.]\n",
      " [1. 1. 1. 1.]]\n"
     ]
    }
   ],
   "source": [
    "# Bin mean\n",
    "for i in range (0,12,4):\n",
    "    k = int(i/4)\n",
    "    mean = (sort_arr[i] + sort_arr[i+1] + sort_arr[i+2] + sort_arr[i+3])/4\n",
    "    for j in range(4):\n",
    "        bin_mean[k,j] = mean\n",
    "print(\"Bin Mean: \\n\", bin_mean)"
   ]
  },
  {
   "cell_type": "code",
   "execution_count": 33,
   "id": "28af17db",
   "metadata": {},
   "outputs": [
    {
     "name": "stdout",
     "output_type": "stream",
     "text": [
      "Bin Boundaries: \n",
      " [[0. 0. 0. 1.]\n",
      " [0. 0. 0. 1.]\n",
      " [0. 0. 0. 1.]]\n"
     ]
    }
   ],
   "source": [
    "# Bin boundaries\n",
    "for i in range (0,12,4):\n",
    "    k = int(i/4)\n",
    "    for j in range (4):\n",
    "        if (sort_arr[i+j]-sort_arr[i]) < (sort_arr[i+3]-sort_arr[1+j]):\n",
    "            bin_boundaries[k,j] = sort_arr[i]\n",
    "    else:\n",
    "        bin_boundaries[k,j] = sort_arr[i+3]\n",
    "print(\"Bin Boundaries: \\n\", bin_boundaries)"
   ]
  },
  {
   "cell_type": "code",
   "execution_count": 34,
   "id": "9d53d03d",
   "metadata": {},
   "outputs": [
    {
     "name": "stdout",
     "output_type": "stream",
     "text": [
      "Bin Median: \n",
      " [[1. 1. 1. 1.]\n",
      " [1. 1. 1. 1.]\n",
      " [1. 1. 1. 1.]]\n"
     ]
    }
   ],
   "source": [
    "#Bin median\n",
    "for i in range (0,12,4):\n",
    "    k = int(i/4)\n",
    "    for j in range (4):\n",
    "        bin_median[k,j] = sort_arr[i+2]\n",
    "print(\"Bin Median: \\n\", bin_median)"
   ]
  },
  {
   "cell_type": "markdown",
   "id": "7009ec92",
   "metadata": {},
   "source": [
    "### Membuang (drop) Kolom"
   ]
  },
  {
   "cell_type": "code",
   "execution_count": 35,
   "id": "b178b70c",
   "metadata": {},
   "outputs": [
    {
     "data": {
      "text/html": [
       "<div>\n",
       "<style scoped>\n",
       "    .dataframe tbody tr th:only-of-type {\n",
       "        vertical-align: middle;\n",
       "    }\n",
       "\n",
       "    .dataframe tbody tr th {\n",
       "        vertical-align: top;\n",
       "    }\n",
       "\n",
       "    .dataframe thead th {\n",
       "        text-align: right;\n",
       "    }\n",
       "</style>\n",
       "<table border=\"1\" class=\"dataframe\">\n",
       "  <thead>\n",
       "    <tr style=\"text-align: right;\">\n",
       "      <th></th>\n",
       "      <th>row_id</th>\n",
       "      <th>tglpelayanan</th>\n",
       "      <th>kddati2</th>\n",
       "      <th>tkp</th>\n",
       "      <th>peserta</th>\n",
       "      <th>a</th>\n",
       "      <th>b</th>\n",
       "      <th>c</th>\n",
       "      <th>cb</th>\n",
       "      <th>d</th>\n",
       "      <th>...</th>\n",
       "      <th>kp</th>\n",
       "      <th>kt</th>\n",
       "      <th>ku</th>\n",
       "      <th>s</th>\n",
       "      <th>sa</th>\n",
       "      <th>sb</th>\n",
       "      <th>sc</th>\n",
       "      <th>sd</th>\n",
       "      <th>case</th>\n",
       "      <th>unit_cost</th>\n",
       "    </tr>\n",
       "  </thead>\n",
       "  <tbody>\n",
       "    <tr>\n",
       "      <th>0</th>\n",
       "      <td>1</td>\n",
       "      <td>4/1/2014 0:00</td>\n",
       "      <td>332</td>\n",
       "      <td>40</td>\n",
       "      <td>179530</td>\n",
       "      <td>0</td>\n",
       "      <td>0</td>\n",
       "      <td>1</td>\n",
       "      <td>0</td>\n",
       "      <td>1</td>\n",
       "      <td>...</td>\n",
       "      <td>0</td>\n",
       "      <td>0</td>\n",
       "      <td>0</td>\n",
       "      <td>0</td>\n",
       "      <td>0</td>\n",
       "      <td>0</td>\n",
       "      <td>0</td>\n",
       "      <td>0</td>\n",
       "      <td>266</td>\n",
       "      <td>3.597440e+06</td>\n",
       "    </tr>\n",
       "    <tr>\n",
       "      <th>1</th>\n",
       "      <td>2</td>\n",
       "      <td>11/1/2016 0:00</td>\n",
       "      <td>54</td>\n",
       "      <td>40</td>\n",
       "      <td>104782</td>\n",
       "      <td>0</td>\n",
       "      <td>1</td>\n",
       "      <td>0</td>\n",
       "      <td>0</td>\n",
       "      <td>0</td>\n",
       "      <td>...</td>\n",
       "      <td>0</td>\n",
       "      <td>0</td>\n",
       "      <td>1</td>\n",
       "      <td>0</td>\n",
       "      <td>0</td>\n",
       "      <td>0</td>\n",
       "      <td>1</td>\n",
       "      <td>1</td>\n",
       "      <td>2453</td>\n",
       "      <td>4.951008e+06</td>\n",
       "    </tr>\n",
       "    <tr>\n",
       "      <th>2</th>\n",
       "      <td>3</td>\n",
       "      <td>5/1/2016 0:00</td>\n",
       "      <td>323</td>\n",
       "      <td>30</td>\n",
       "      <td>280645</td>\n",
       "      <td>0</td>\n",
       "      <td>0</td>\n",
       "      <td>1</td>\n",
       "      <td>0</td>\n",
       "      <td>0</td>\n",
       "      <td>...</td>\n",
       "      <td>0</td>\n",
       "      <td>0</td>\n",
       "      <td>0</td>\n",
       "      <td>0</td>\n",
       "      <td>0</td>\n",
       "      <td>0</td>\n",
       "      <td>0</td>\n",
       "      <td>0</td>\n",
       "      <td>1690</td>\n",
       "      <td>1.984208e+05</td>\n",
       "    </tr>\n",
       "    <tr>\n",
       "      <th>3</th>\n",
       "      <td>4</td>\n",
       "      <td>11/1/2018 0:00</td>\n",
       "      <td>318</td>\n",
       "      <td>40</td>\n",
       "      <td>178685</td>\n",
       "      <td>0</td>\n",
       "      <td>1</td>\n",
       "      <td>0</td>\n",
       "      <td>0</td>\n",
       "      <td>0</td>\n",
       "      <td>...</td>\n",
       "      <td>0</td>\n",
       "      <td>0</td>\n",
       "      <td>0</td>\n",
       "      <td>0</td>\n",
       "      <td>0</td>\n",
       "      <td>0</td>\n",
       "      <td>0</td>\n",
       "      <td>3</td>\n",
       "      <td>1321</td>\n",
       "      <td>4.008756e+06</td>\n",
       "    </tr>\n",
       "    <tr>\n",
       "      <th>4</th>\n",
       "      <td>5</td>\n",
       "      <td>10/1/2019 0:00</td>\n",
       "      <td>150</td>\n",
       "      <td>30</td>\n",
       "      <td>1199321</td>\n",
       "      <td>1</td>\n",
       "      <td>0</td>\n",
       "      <td>1</td>\n",
       "      <td>0</td>\n",
       "      <td>0</td>\n",
       "      <td>...</td>\n",
       "      <td>1</td>\n",
       "      <td>0</td>\n",
       "      <td>0</td>\n",
       "      <td>0</td>\n",
       "      <td>0</td>\n",
       "      <td>1</td>\n",
       "      <td>0</td>\n",
       "      <td>5</td>\n",
       "      <td>73056</td>\n",
       "      <td>3.072272e+05</td>\n",
       "    </tr>\n",
       "  </tbody>\n",
       "</table>\n",
       "<p>5 rows × 36 columns</p>\n",
       "</div>"
      ],
      "text/plain": [
       "   row_id    tglpelayanan  kddati2  tkp  peserta  a  b  c  cb  d  ...  kp  kt  \\\n",
       "0       1   4/1/2014 0:00      332   40   179530  0  0  1   0  1  ...   0   0   \n",
       "1       2  11/1/2016 0:00       54   40   104782  0  1  0   0  0  ...   0   0   \n",
       "2       3   5/1/2016 0:00      323   30   280645  0  0  1   0  0  ...   0   0   \n",
       "3       4  11/1/2018 0:00      318   40   178685  0  1  0   0  0  ...   0   0   \n",
       "4       5  10/1/2019 0:00      150   30  1199321  1  0  1   0  0  ...   1   0   \n",
       "\n",
       "   ku  s  sa  sb  sc  sd   case     unit_cost  \n",
       "0   0  0   0   0   0   0    266  3.597440e+06  \n",
       "1   1  0   0   0   1   1   2453  4.951008e+06  \n",
       "2   0  0   0   0   0   0   1690  1.984208e+05  \n",
       "3   0  0   0   0   0   3   1321  4.008756e+06  \n",
       "4   0  0   0   1   0   5  73056  3.072272e+05  \n",
       "\n",
       "[5 rows x 36 columns]"
      ]
     },
     "execution_count": 35,
     "metadata": {},
     "output_type": "execute_result"
    }
   ],
   "source": [
    "case_cost.head()"
   ]
  },
  {
   "cell_type": "code",
   "execution_count": 36,
   "id": "cf2a8669",
   "metadata": {},
   "outputs": [],
   "source": [
    "to_drop = ['tglpelayanan']"
   ]
  },
  {
   "cell_type": "code",
   "execution_count": 37,
   "id": "f73367e4",
   "metadata": {},
   "outputs": [],
   "source": [
    "case_cost.drop(to_drop,  inplace=True, axis=1)"
   ]
  },
  {
   "cell_type": "code",
   "execution_count": 38,
   "id": "d01415bc",
   "metadata": {},
   "outputs": [
    {
     "data": {
      "text/html": [
       "<div>\n",
       "<style scoped>\n",
       "    .dataframe tbody tr th:only-of-type {\n",
       "        vertical-align: middle;\n",
       "    }\n",
       "\n",
       "    .dataframe tbody tr th {\n",
       "        vertical-align: top;\n",
       "    }\n",
       "\n",
       "    .dataframe thead th {\n",
       "        text-align: right;\n",
       "    }\n",
       "</style>\n",
       "<table border=\"1\" class=\"dataframe\">\n",
       "  <thead>\n",
       "    <tr style=\"text-align: right;\">\n",
       "      <th></th>\n",
       "      <th>row_id</th>\n",
       "      <th>kddati2</th>\n",
       "      <th>tkp</th>\n",
       "      <th>peserta</th>\n",
       "      <th>a</th>\n",
       "      <th>b</th>\n",
       "      <th>c</th>\n",
       "      <th>cb</th>\n",
       "      <th>d</th>\n",
       "      <th>ds</th>\n",
       "      <th>...</th>\n",
       "      <th>kp</th>\n",
       "      <th>kt</th>\n",
       "      <th>ku</th>\n",
       "      <th>s</th>\n",
       "      <th>sa</th>\n",
       "      <th>sb</th>\n",
       "      <th>sc</th>\n",
       "      <th>sd</th>\n",
       "      <th>case</th>\n",
       "      <th>unit_cost</th>\n",
       "    </tr>\n",
       "  </thead>\n",
       "  <tbody>\n",
       "    <tr>\n",
       "      <th>0</th>\n",
       "      <td>1</td>\n",
       "      <td>332</td>\n",
       "      <td>40</td>\n",
       "      <td>179530</td>\n",
       "      <td>0</td>\n",
       "      <td>0</td>\n",
       "      <td>1</td>\n",
       "      <td>0</td>\n",
       "      <td>1</td>\n",
       "      <td>0</td>\n",
       "      <td>...</td>\n",
       "      <td>0</td>\n",
       "      <td>0</td>\n",
       "      <td>0</td>\n",
       "      <td>0</td>\n",
       "      <td>0</td>\n",
       "      <td>0</td>\n",
       "      <td>0</td>\n",
       "      <td>0</td>\n",
       "      <td>266</td>\n",
       "      <td>3.597440e+06</td>\n",
       "    </tr>\n",
       "    <tr>\n",
       "      <th>1</th>\n",
       "      <td>2</td>\n",
       "      <td>54</td>\n",
       "      <td>40</td>\n",
       "      <td>104782</td>\n",
       "      <td>0</td>\n",
       "      <td>1</td>\n",
       "      <td>0</td>\n",
       "      <td>0</td>\n",
       "      <td>0</td>\n",
       "      <td>0</td>\n",
       "      <td>...</td>\n",
       "      <td>0</td>\n",
       "      <td>0</td>\n",
       "      <td>1</td>\n",
       "      <td>0</td>\n",
       "      <td>0</td>\n",
       "      <td>0</td>\n",
       "      <td>1</td>\n",
       "      <td>1</td>\n",
       "      <td>2453</td>\n",
       "      <td>4.951008e+06</td>\n",
       "    </tr>\n",
       "    <tr>\n",
       "      <th>2</th>\n",
       "      <td>3</td>\n",
       "      <td>323</td>\n",
       "      <td>30</td>\n",
       "      <td>280645</td>\n",
       "      <td>0</td>\n",
       "      <td>0</td>\n",
       "      <td>1</td>\n",
       "      <td>0</td>\n",
       "      <td>0</td>\n",
       "      <td>0</td>\n",
       "      <td>...</td>\n",
       "      <td>0</td>\n",
       "      <td>0</td>\n",
       "      <td>0</td>\n",
       "      <td>0</td>\n",
       "      <td>0</td>\n",
       "      <td>0</td>\n",
       "      <td>0</td>\n",
       "      <td>0</td>\n",
       "      <td>1690</td>\n",
       "      <td>1.984208e+05</td>\n",
       "    </tr>\n",
       "    <tr>\n",
       "      <th>3</th>\n",
       "      <td>4</td>\n",
       "      <td>318</td>\n",
       "      <td>40</td>\n",
       "      <td>178685</td>\n",
       "      <td>0</td>\n",
       "      <td>1</td>\n",
       "      <td>0</td>\n",
       "      <td>0</td>\n",
       "      <td>0</td>\n",
       "      <td>0</td>\n",
       "      <td>...</td>\n",
       "      <td>0</td>\n",
       "      <td>0</td>\n",
       "      <td>0</td>\n",
       "      <td>0</td>\n",
       "      <td>0</td>\n",
       "      <td>0</td>\n",
       "      <td>0</td>\n",
       "      <td>3</td>\n",
       "      <td>1321</td>\n",
       "      <td>4.008756e+06</td>\n",
       "    </tr>\n",
       "    <tr>\n",
       "      <th>4</th>\n",
       "      <td>5</td>\n",
       "      <td>150</td>\n",
       "      <td>30</td>\n",
       "      <td>1199321</td>\n",
       "      <td>1</td>\n",
       "      <td>0</td>\n",
       "      <td>1</td>\n",
       "      <td>0</td>\n",
       "      <td>0</td>\n",
       "      <td>0</td>\n",
       "      <td>...</td>\n",
       "      <td>1</td>\n",
       "      <td>0</td>\n",
       "      <td>0</td>\n",
       "      <td>0</td>\n",
       "      <td>0</td>\n",
       "      <td>1</td>\n",
       "      <td>0</td>\n",
       "      <td>5</td>\n",
       "      <td>73056</td>\n",
       "      <td>3.072272e+05</td>\n",
       "    </tr>\n",
       "  </tbody>\n",
       "</table>\n",
       "<p>5 rows × 35 columns</p>\n",
       "</div>"
      ],
      "text/plain": [
       "   row_id  kddati2  tkp  peserta  a  b  c  cb  d  ds  ...  kp  kt  ku  s  sa  \\\n",
       "0       1      332   40   179530  0  0  1   0  1   0  ...   0   0   0  0   0   \n",
       "1       2       54   40   104782  0  1  0   0  0   0  ...   0   0   1  0   0   \n",
       "2       3      323   30   280645  0  0  1   0  0   0  ...   0   0   0  0   0   \n",
       "3       4      318   40   178685  0  1  0   0  0   0  ...   0   0   0  0   0   \n",
       "4       5      150   30  1199321  1  0  1   0  0   0  ...   1   0   0  0   0   \n",
       "\n",
       "   sb  sc  sd   case     unit_cost  \n",
       "0   0   0   0    266  3.597440e+06  \n",
       "1   0   1   1   2453  4.951008e+06  \n",
       "2   0   0   0   1690  1.984208e+05  \n",
       "3   0   0   3   1321  4.008756e+06  \n",
       "4   1   0   5  73056  3.072272e+05  \n",
       "\n",
       "[5 rows x 35 columns]"
      ]
     },
     "execution_count": 38,
     "metadata": {},
     "output_type": "execute_result"
    }
   ],
   "source": [
    "case_cost.head()"
   ]
  },
  {
   "cell_type": "markdown",
   "id": "9a3665a8",
   "metadata": {},
   "source": [
    "Mengubah Index ke DataFrame"
   ]
  },
  {
   "cell_type": "code",
   "execution_count": 39,
   "id": "414bb85f",
   "metadata": {},
   "outputs": [
    {
     "data": {
      "text/plain": [
       "True"
      ]
     },
     "execution_count": 39,
     "metadata": {},
     "output_type": "execute_result"
    }
   ],
   "source": [
    "case_cost['row_id'].is_unique"
   ]
  },
  {
   "cell_type": "code",
   "execution_count": 40,
   "id": "47a18026",
   "metadata": {},
   "outputs": [
    {
     "data": {
      "text/html": [
       "<div>\n",
       "<style scoped>\n",
       "    .dataframe tbody tr th:only-of-type {\n",
       "        vertical-align: middle;\n",
       "    }\n",
       "\n",
       "    .dataframe tbody tr th {\n",
       "        vertical-align: top;\n",
       "    }\n",
       "\n",
       "    .dataframe thead th {\n",
       "        text-align: right;\n",
       "    }\n",
       "</style>\n",
       "<table border=\"1\" class=\"dataframe\">\n",
       "  <thead>\n",
       "    <tr style=\"text-align: right;\">\n",
       "      <th></th>\n",
       "      <th>kddati2</th>\n",
       "      <th>tkp</th>\n",
       "      <th>peserta</th>\n",
       "      <th>a</th>\n",
       "      <th>b</th>\n",
       "      <th>c</th>\n",
       "      <th>cb</th>\n",
       "      <th>d</th>\n",
       "      <th>ds</th>\n",
       "      <th>gd</th>\n",
       "      <th>...</th>\n",
       "      <th>kp</th>\n",
       "      <th>kt</th>\n",
       "      <th>ku</th>\n",
       "      <th>s</th>\n",
       "      <th>sa</th>\n",
       "      <th>sb</th>\n",
       "      <th>sc</th>\n",
       "      <th>sd</th>\n",
       "      <th>case</th>\n",
       "      <th>unit_cost</th>\n",
       "    </tr>\n",
       "    <tr>\n",
       "      <th>row_id</th>\n",
       "      <th></th>\n",
       "      <th></th>\n",
       "      <th></th>\n",
       "      <th></th>\n",
       "      <th></th>\n",
       "      <th></th>\n",
       "      <th></th>\n",
       "      <th></th>\n",
       "      <th></th>\n",
       "      <th></th>\n",
       "      <th></th>\n",
       "      <th></th>\n",
       "      <th></th>\n",
       "      <th></th>\n",
       "      <th></th>\n",
       "      <th></th>\n",
       "      <th></th>\n",
       "      <th></th>\n",
       "      <th></th>\n",
       "      <th></th>\n",
       "      <th></th>\n",
       "    </tr>\n",
       "  </thead>\n",
       "  <tbody>\n",
       "    <tr>\n",
       "      <th>1</th>\n",
       "      <td>332</td>\n",
       "      <td>40</td>\n",
       "      <td>179530</td>\n",
       "      <td>0</td>\n",
       "      <td>0</td>\n",
       "      <td>1</td>\n",
       "      <td>0</td>\n",
       "      <td>1</td>\n",
       "      <td>0</td>\n",
       "      <td>0</td>\n",
       "      <td>...</td>\n",
       "      <td>0</td>\n",
       "      <td>0</td>\n",
       "      <td>0</td>\n",
       "      <td>0</td>\n",
       "      <td>0</td>\n",
       "      <td>0</td>\n",
       "      <td>0</td>\n",
       "      <td>0</td>\n",
       "      <td>266</td>\n",
       "      <td>3.597440e+06</td>\n",
       "    </tr>\n",
       "    <tr>\n",
       "      <th>2</th>\n",
       "      <td>54</td>\n",
       "      <td>40</td>\n",
       "      <td>104782</td>\n",
       "      <td>0</td>\n",
       "      <td>1</td>\n",
       "      <td>0</td>\n",
       "      <td>0</td>\n",
       "      <td>0</td>\n",
       "      <td>0</td>\n",
       "      <td>0</td>\n",
       "      <td>...</td>\n",
       "      <td>0</td>\n",
       "      <td>0</td>\n",
       "      <td>1</td>\n",
       "      <td>0</td>\n",
       "      <td>0</td>\n",
       "      <td>0</td>\n",
       "      <td>1</td>\n",
       "      <td>1</td>\n",
       "      <td>2453</td>\n",
       "      <td>4.951008e+06</td>\n",
       "    </tr>\n",
       "    <tr>\n",
       "      <th>3</th>\n",
       "      <td>323</td>\n",
       "      <td>30</td>\n",
       "      <td>280645</td>\n",
       "      <td>0</td>\n",
       "      <td>0</td>\n",
       "      <td>1</td>\n",
       "      <td>0</td>\n",
       "      <td>0</td>\n",
       "      <td>0</td>\n",
       "      <td>0</td>\n",
       "      <td>...</td>\n",
       "      <td>0</td>\n",
       "      <td>0</td>\n",
       "      <td>0</td>\n",
       "      <td>0</td>\n",
       "      <td>0</td>\n",
       "      <td>0</td>\n",
       "      <td>0</td>\n",
       "      <td>0</td>\n",
       "      <td>1690</td>\n",
       "      <td>1.984208e+05</td>\n",
       "    </tr>\n",
       "    <tr>\n",
       "      <th>4</th>\n",
       "      <td>318</td>\n",
       "      <td>40</td>\n",
       "      <td>178685</td>\n",
       "      <td>0</td>\n",
       "      <td>1</td>\n",
       "      <td>0</td>\n",
       "      <td>0</td>\n",
       "      <td>0</td>\n",
       "      <td>0</td>\n",
       "      <td>0</td>\n",
       "      <td>...</td>\n",
       "      <td>0</td>\n",
       "      <td>0</td>\n",
       "      <td>0</td>\n",
       "      <td>0</td>\n",
       "      <td>0</td>\n",
       "      <td>0</td>\n",
       "      <td>0</td>\n",
       "      <td>3</td>\n",
       "      <td>1321</td>\n",
       "      <td>4.008756e+06</td>\n",
       "    </tr>\n",
       "    <tr>\n",
       "      <th>5</th>\n",
       "      <td>150</td>\n",
       "      <td>30</td>\n",
       "      <td>1199321</td>\n",
       "      <td>1</td>\n",
       "      <td>0</td>\n",
       "      <td>1</td>\n",
       "      <td>0</td>\n",
       "      <td>0</td>\n",
       "      <td>0</td>\n",
       "      <td>0</td>\n",
       "      <td>...</td>\n",
       "      <td>1</td>\n",
       "      <td>0</td>\n",
       "      <td>0</td>\n",
       "      <td>0</td>\n",
       "      <td>0</td>\n",
       "      <td>1</td>\n",
       "      <td>0</td>\n",
       "      <td>5</td>\n",
       "      <td>73056</td>\n",
       "      <td>3.072272e+05</td>\n",
       "    </tr>\n",
       "  </tbody>\n",
       "</table>\n",
       "<p>5 rows × 34 columns</p>\n",
       "</div>"
      ],
      "text/plain": [
       "        kddati2  tkp  peserta  a  b  c  cb  d  ds  gd  ...  kp  kt  ku  s  sa  \\\n",
       "row_id                                                 ...                      \n",
       "1           332   40   179530  0  0  1   0  1   0   0  ...   0   0   0  0   0   \n",
       "2            54   40   104782  0  1  0   0  0   0   0  ...   0   0   1  0   0   \n",
       "3           323   30   280645  0  0  1   0  0   0   0  ...   0   0   0  0   0   \n",
       "4           318   40   178685  0  1  0   0  0   0   0  ...   0   0   0  0   0   \n",
       "5           150   30  1199321  1  0  1   0  0   0   0  ...   1   0   0  0   0   \n",
       "\n",
       "        sb  sc  sd   case     unit_cost  \n",
       "row_id                                   \n",
       "1        0   0   0    266  3.597440e+06  \n",
       "2        0   1   1   2453  4.951008e+06  \n",
       "3        0   0   0   1690  1.984208e+05  \n",
       "4        0   0   3   1321  4.008756e+06  \n",
       "5        1   0   5  73056  3.072272e+05  \n",
       "\n",
       "[5 rows x 34 columns]"
      ]
     },
     "execution_count": 40,
     "metadata": {},
     "output_type": "execute_result"
    }
   ],
   "source": [
    "case_cost = case_cost.set_index('row_id') \n",
    "case_cost.head()"
   ]
  },
  {
   "cell_type": "code",
   "execution_count": 41,
   "id": "d1cf79c9",
   "metadata": {},
   "outputs": [
    {
     "data": {
      "text/plain": [
       "kddati2          144.000\n",
       "tkp               40.000\n",
       "peserta       662994.000\n",
       "a                  0.000\n",
       "b                  0.000\n",
       "c                  1.000\n",
       "cb                 0.000\n",
       "d                  0.000\n",
       "ds                 0.000\n",
       "gd                 0.000\n",
       "hd                 0.000\n",
       "i1                 0.000\n",
       "i2                 0.000\n",
       "i3                 0.000\n",
       "i4                 0.000\n",
       "kb                 0.000\n",
       "kc                 0.000\n",
       "kg                 0.000\n",
       "ki                 0.000\n",
       "kj                 0.000\n",
       "kk                 0.000\n",
       "kl                 1.000\n",
       "km                 0.000\n",
       "ko                 0.000\n",
       "kp                 0.000\n",
       "kt                 0.000\n",
       "ku                 0.000\n",
       "s                  0.000\n",
       "sa                 0.000\n",
       "sb                 0.000\n",
       "sc                 1.000\n",
       "sd                 1.000\n",
       "case            2210.000\n",
       "unit_cost    3196903.729\n",
       "Name: 100, dtype: float64"
      ]
     },
     "execution_count": 41,
     "metadata": {},
     "output_type": "execute_result"
    }
   ],
   "source": [
    "case_cost.loc[100] "
   ]
  },
  {
   "cell_type": "markdown",
   "id": "0f97c759",
   "metadata": {},
   "source": [
    "Merapihkan Fields dalam Data"
   ]
  },
  {
   "cell_type": "code",
   "execution_count": 42,
   "id": "cd4f98c4",
   "metadata": {},
   "outputs": [
    {
     "data": {
      "text/plain": [
       "int64      33\n",
       "float64     1\n",
       "dtype: int64"
      ]
     },
     "execution_count": 42,
     "metadata": {},
     "output_type": "execute_result"
    }
   ],
   "source": [
    "case_cost.dtypes.value_counts()"
   ]
  },
  {
   "cell_type": "code",
   "execution_count": 43,
   "id": "0b4fe521",
   "metadata": {},
   "outputs": [],
   "source": [
    "regex = r'^(\\d{4})'"
   ]
  },
  {
   "cell_type": "markdown",
   "id": "a784fe7f",
   "metadata": {},
   "source": [
    "Membersihkan Kolom dengan Kombinasi metode str dengan NumPy"
   ]
  },
  {
   "cell_type": "code",
   "execution_count": 44,
   "id": "f484a38e",
   "metadata": {},
   "outputs": [
    {
     "data": {
      "text/plain": [
       "row_id\n",
       "1     332\n",
       "2      54\n",
       "3     323\n",
       "4     318\n",
       "5     150\n",
       "6      37\n",
       "7     379\n",
       "8     110\n",
       "9     303\n",
       "10     49\n",
       "Name: kddati2, dtype: int64"
      ]
     },
     "execution_count": 44,
     "metadata": {},
     "output_type": "execute_result"
    }
   ],
   "source": [
    "case_cost['kddati2'].head(10)"
   ]
  },
  {
   "cell_type": "code",
   "execution_count": 45,
   "id": "54699c10",
   "metadata": {},
   "outputs": [
    {
     "data": {
      "text/plain": [
       "kddati2         416.0000\n",
       "tkp              30.0000\n",
       "peserta       89328.0000\n",
       "a                 0.0000\n",
       "b                 0.0000\n",
       "c                 1.0000\n",
       "cb                0.0000\n",
       "d                 0.0000\n",
       "ds                0.0000\n",
       "gd                0.0000\n",
       "hd                0.0000\n",
       "i1                0.0000\n",
       "i2                0.0000\n",
       "i3                0.0000\n",
       "i4                0.0000\n",
       "kb                0.0000\n",
       "kc                0.0000\n",
       "kg                0.0000\n",
       "ki                0.0000\n",
       "kj                0.0000\n",
       "kk                0.0000\n",
       "kl                0.0000\n",
       "km                0.0000\n",
       "ko                0.0000\n",
       "kp                0.0000\n",
       "kt                0.0000\n",
       "ku                0.0000\n",
       "s                 0.0000\n",
       "sa                0.0000\n",
       "sb                0.0000\n",
       "sc                0.0000\n",
       "sd                0.0000\n",
       "case            604.0000\n",
       "unit_cost    294514.0728\n",
       "Name: 1006, dtype: float64"
      ]
     },
     "execution_count": 45,
     "metadata": {},
     "output_type": "execute_result"
    }
   ],
   "source": [
    "case_cost.loc[1006]"
   ]
  },
  {
   "cell_type": "code",
   "execution_count": 46,
   "id": "d4ea47ab",
   "metadata": {},
   "outputs": [],
   "source": [
    "case_cost['tipe_rs'] = case_cost['a'] + case_cost['b'] + case_cost['c']+ case_cost['cb']+ case_cost['d']+ case_cost['ds']+ case_cost['gd']+ case_cost['hd']+case_cost['i1']+ case_cost['i2']+ case_cost['i3']+ case_cost['i4']+ case_cost['kb']+ case_cost['kc']+ case_cost['kg']+ case_cost['ki']+ case_cost['kj']+ case_cost['kk']+ case_cost['kl']+ case_cost['km'] + case_cost['ko']+ case_cost['kp']+ case_cost['kt']+ case_cost['ku']+ case_cost['s']+ case_cost['sa']+ case_cost['sb']+ case_cost['sc']+ case_cost['sd']"
   ]
  },
  {
   "cell_type": "code",
   "execution_count": 47,
   "id": "4ade0929",
   "metadata": {},
   "outputs": [
    {
     "data": {
      "text/html": [
       "<div>\n",
       "<style scoped>\n",
       "    .dataframe tbody tr th:only-of-type {\n",
       "        vertical-align: middle;\n",
       "    }\n",
       "\n",
       "    .dataframe tbody tr th {\n",
       "        vertical-align: top;\n",
       "    }\n",
       "\n",
       "    .dataframe thead th {\n",
       "        text-align: right;\n",
       "    }\n",
       "</style>\n",
       "<table border=\"1\" class=\"dataframe\">\n",
       "  <thead>\n",
       "    <tr style=\"text-align: right;\">\n",
       "      <th></th>\n",
       "      <th>kddati2</th>\n",
       "      <th>tkp</th>\n",
       "      <th>peserta</th>\n",
       "      <th>a</th>\n",
       "      <th>b</th>\n",
       "      <th>c</th>\n",
       "      <th>cb</th>\n",
       "      <th>d</th>\n",
       "      <th>ds</th>\n",
       "      <th>gd</th>\n",
       "      <th>...</th>\n",
       "      <th>kt</th>\n",
       "      <th>ku</th>\n",
       "      <th>s</th>\n",
       "      <th>sa</th>\n",
       "      <th>sb</th>\n",
       "      <th>sc</th>\n",
       "      <th>sd</th>\n",
       "      <th>case</th>\n",
       "      <th>unit_cost</th>\n",
       "      <th>tipe_rs</th>\n",
       "    </tr>\n",
       "    <tr>\n",
       "      <th>row_id</th>\n",
       "      <th></th>\n",
       "      <th></th>\n",
       "      <th></th>\n",
       "      <th></th>\n",
       "      <th></th>\n",
       "      <th></th>\n",
       "      <th></th>\n",
       "      <th></th>\n",
       "      <th></th>\n",
       "      <th></th>\n",
       "      <th></th>\n",
       "      <th></th>\n",
       "      <th></th>\n",
       "      <th></th>\n",
       "      <th></th>\n",
       "      <th></th>\n",
       "      <th></th>\n",
       "      <th></th>\n",
       "      <th></th>\n",
       "      <th></th>\n",
       "      <th></th>\n",
       "    </tr>\n",
       "  </thead>\n",
       "  <tbody>\n",
       "    <tr>\n",
       "      <th>1</th>\n",
       "      <td>332</td>\n",
       "      <td>40</td>\n",
       "      <td>179530</td>\n",
       "      <td>0</td>\n",
       "      <td>0</td>\n",
       "      <td>1</td>\n",
       "      <td>0</td>\n",
       "      <td>1</td>\n",
       "      <td>0</td>\n",
       "      <td>0</td>\n",
       "      <td>...</td>\n",
       "      <td>0</td>\n",
       "      <td>0</td>\n",
       "      <td>0</td>\n",
       "      <td>0</td>\n",
       "      <td>0</td>\n",
       "      <td>0</td>\n",
       "      <td>0</td>\n",
       "      <td>266</td>\n",
       "      <td>3.597440e+06</td>\n",
       "      <td>2</td>\n",
       "    </tr>\n",
       "    <tr>\n",
       "      <th>2</th>\n",
       "      <td>54</td>\n",
       "      <td>40</td>\n",
       "      <td>104782</td>\n",
       "      <td>0</td>\n",
       "      <td>1</td>\n",
       "      <td>0</td>\n",
       "      <td>0</td>\n",
       "      <td>0</td>\n",
       "      <td>0</td>\n",
       "      <td>0</td>\n",
       "      <td>...</td>\n",
       "      <td>0</td>\n",
       "      <td>1</td>\n",
       "      <td>0</td>\n",
       "      <td>0</td>\n",
       "      <td>0</td>\n",
       "      <td>1</td>\n",
       "      <td>1</td>\n",
       "      <td>2453</td>\n",
       "      <td>4.951008e+06</td>\n",
       "      <td>5</td>\n",
       "    </tr>\n",
       "    <tr>\n",
       "      <th>3</th>\n",
       "      <td>323</td>\n",
       "      <td>30</td>\n",
       "      <td>280645</td>\n",
       "      <td>0</td>\n",
       "      <td>0</td>\n",
       "      <td>1</td>\n",
       "      <td>0</td>\n",
       "      <td>0</td>\n",
       "      <td>0</td>\n",
       "      <td>0</td>\n",
       "      <td>...</td>\n",
       "      <td>0</td>\n",
       "      <td>0</td>\n",
       "      <td>0</td>\n",
       "      <td>0</td>\n",
       "      <td>0</td>\n",
       "      <td>0</td>\n",
       "      <td>0</td>\n",
       "      <td>1690</td>\n",
       "      <td>1.984208e+05</td>\n",
       "      <td>1</td>\n",
       "    </tr>\n",
       "    <tr>\n",
       "      <th>4</th>\n",
       "      <td>318</td>\n",
       "      <td>40</td>\n",
       "      <td>178685</td>\n",
       "      <td>0</td>\n",
       "      <td>1</td>\n",
       "      <td>0</td>\n",
       "      <td>0</td>\n",
       "      <td>0</td>\n",
       "      <td>0</td>\n",
       "      <td>0</td>\n",
       "      <td>...</td>\n",
       "      <td>0</td>\n",
       "      <td>0</td>\n",
       "      <td>0</td>\n",
       "      <td>0</td>\n",
       "      <td>0</td>\n",
       "      <td>0</td>\n",
       "      <td>3</td>\n",
       "      <td>1321</td>\n",
       "      <td>4.008756e+06</td>\n",
       "      <td>5</td>\n",
       "    </tr>\n",
       "    <tr>\n",
       "      <th>5</th>\n",
       "      <td>150</td>\n",
       "      <td>30</td>\n",
       "      <td>1199321</td>\n",
       "      <td>1</td>\n",
       "      <td>0</td>\n",
       "      <td>1</td>\n",
       "      <td>0</td>\n",
       "      <td>0</td>\n",
       "      <td>0</td>\n",
       "      <td>0</td>\n",
       "      <td>...</td>\n",
       "      <td>0</td>\n",
       "      <td>0</td>\n",
       "      <td>0</td>\n",
       "      <td>0</td>\n",
       "      <td>1</td>\n",
       "      <td>0</td>\n",
       "      <td>5</td>\n",
       "      <td>73056</td>\n",
       "      <td>3.072272e+05</td>\n",
       "      <td>12</td>\n",
       "    </tr>\n",
       "    <tr>\n",
       "      <th>...</th>\n",
       "      <td>...</td>\n",
       "      <td>...</td>\n",
       "      <td>...</td>\n",
       "      <td>...</td>\n",
       "      <td>...</td>\n",
       "      <td>...</td>\n",
       "      <td>...</td>\n",
       "      <td>...</td>\n",
       "      <td>...</td>\n",
       "      <td>...</td>\n",
       "      <td>...</td>\n",
       "      <td>...</td>\n",
       "      <td>...</td>\n",
       "      <td>...</td>\n",
       "      <td>...</td>\n",
       "      <td>...</td>\n",
       "      <td>...</td>\n",
       "      <td>...</td>\n",
       "      <td>...</td>\n",
       "      <td>...</td>\n",
       "      <td>...</td>\n",
       "    </tr>\n",
       "    <tr>\n",
       "      <th>57967</th>\n",
       "      <td>241</td>\n",
       "      <td>40</td>\n",
       "      <td>157213</td>\n",
       "      <td>0</td>\n",
       "      <td>0</td>\n",
       "      <td>1</td>\n",
       "      <td>0</td>\n",
       "      <td>0</td>\n",
       "      <td>0</td>\n",
       "      <td>0</td>\n",
       "      <td>...</td>\n",
       "      <td>0</td>\n",
       "      <td>0</td>\n",
       "      <td>0</td>\n",
       "      <td>0</td>\n",
       "      <td>0</td>\n",
       "      <td>0</td>\n",
       "      <td>0</td>\n",
       "      <td>410</td>\n",
       "      <td>3.443332e+06</td>\n",
       "      <td>1</td>\n",
       "    </tr>\n",
       "    <tr>\n",
       "      <th>57968</th>\n",
       "      <td>338</td>\n",
       "      <td>30</td>\n",
       "      <td>402173</td>\n",
       "      <td>0</td>\n",
       "      <td>0</td>\n",
       "      <td>1</td>\n",
       "      <td>0</td>\n",
       "      <td>0</td>\n",
       "      <td>0</td>\n",
       "      <td>0</td>\n",
       "      <td>...</td>\n",
       "      <td>0</td>\n",
       "      <td>0</td>\n",
       "      <td>0</td>\n",
       "      <td>0</td>\n",
       "      <td>0</td>\n",
       "      <td>0</td>\n",
       "      <td>0</td>\n",
       "      <td>8272</td>\n",
       "      <td>2.128621e+05</td>\n",
       "      <td>1</td>\n",
       "    </tr>\n",
       "    <tr>\n",
       "      <th>57969</th>\n",
       "      <td>241</td>\n",
       "      <td>40</td>\n",
       "      <td>99401</td>\n",
       "      <td>0</td>\n",
       "      <td>0</td>\n",
       "      <td>1</td>\n",
       "      <td>0</td>\n",
       "      <td>0</td>\n",
       "      <td>0</td>\n",
       "      <td>0</td>\n",
       "      <td>...</td>\n",
       "      <td>0</td>\n",
       "      <td>0</td>\n",
       "      <td>0</td>\n",
       "      <td>0</td>\n",
       "      <td>0</td>\n",
       "      <td>0</td>\n",
       "      <td>0</td>\n",
       "      <td>294</td>\n",
       "      <td>3.028611e+06</td>\n",
       "      <td>1</td>\n",
       "    </tr>\n",
       "    <tr>\n",
       "      <th>57970</th>\n",
       "      <td>147</td>\n",
       "      <td>40</td>\n",
       "      <td>509495</td>\n",
       "      <td>0</td>\n",
       "      <td>0</td>\n",
       "      <td>1</td>\n",
       "      <td>0</td>\n",
       "      <td>0</td>\n",
       "      <td>0</td>\n",
       "      <td>0</td>\n",
       "      <td>...</td>\n",
       "      <td>0</td>\n",
       "      <td>0</td>\n",
       "      <td>0</td>\n",
       "      <td>0</td>\n",
       "      <td>0</td>\n",
       "      <td>2</td>\n",
       "      <td>0</td>\n",
       "      <td>1983</td>\n",
       "      <td>3.629365e+06</td>\n",
       "      <td>3</td>\n",
       "    </tr>\n",
       "    <tr>\n",
       "      <th>57971</th>\n",
       "      <td>204</td>\n",
       "      <td>30</td>\n",
       "      <td>770169</td>\n",
       "      <td>0</td>\n",
       "      <td>1</td>\n",
       "      <td>1</td>\n",
       "      <td>0</td>\n",
       "      <td>0</td>\n",
       "      <td>0</td>\n",
       "      <td>0</td>\n",
       "      <td>...</td>\n",
       "      <td>0</td>\n",
       "      <td>0</td>\n",
       "      <td>0</td>\n",
       "      <td>0</td>\n",
       "      <td>1</td>\n",
       "      <td>2</td>\n",
       "      <td>1</td>\n",
       "      <td>16679</td>\n",
       "      <td>2.956852e+05</td>\n",
       "      <td>8</td>\n",
       "    </tr>\n",
       "  </tbody>\n",
       "</table>\n",
       "<p>57971 rows × 35 columns</p>\n",
       "</div>"
      ],
      "text/plain": [
       "        kddati2  tkp  peserta  a  b  c  cb  d  ds  gd  ...  kt  ku  s  sa  sb  \\\n",
       "row_id                                                 ...                      \n",
       "1           332   40   179530  0  0  1   0  1   0   0  ...   0   0  0   0   0   \n",
       "2            54   40   104782  0  1  0   0  0   0   0  ...   0   1  0   0   0   \n",
       "3           323   30   280645  0  0  1   0  0   0   0  ...   0   0  0   0   0   \n",
       "4           318   40   178685  0  1  0   0  0   0   0  ...   0   0  0   0   0   \n",
       "5           150   30  1199321  1  0  1   0  0   0   0  ...   0   0  0   0   1   \n",
       "...         ...  ...      ... .. .. ..  .. ..  ..  ..  ...  ..  .. ..  ..  ..   \n",
       "57967       241   40   157213  0  0  1   0  0   0   0  ...   0   0  0   0   0   \n",
       "57968       338   30   402173  0  0  1   0  0   0   0  ...   0   0  0   0   0   \n",
       "57969       241   40    99401  0  0  1   0  0   0   0  ...   0   0  0   0   0   \n",
       "57970       147   40   509495  0  0  1   0  0   0   0  ...   0   0  0   0   0   \n",
       "57971       204   30   770169  0  1  1   0  0   0   0  ...   0   0  0   0   1   \n",
       "\n",
       "        sc  sd   case     unit_cost  tipe_rs  \n",
       "row_id                                        \n",
       "1        0   0    266  3.597440e+06        2  \n",
       "2        1   1   2453  4.951008e+06        5  \n",
       "3        0   0   1690  1.984208e+05        1  \n",
       "4        0   3   1321  4.008756e+06        5  \n",
       "5        0   5  73056  3.072272e+05       12  \n",
       "...     ..  ..    ...           ...      ...  \n",
       "57967    0   0    410  3.443332e+06        1  \n",
       "57968    0   0   8272  2.128621e+05        1  \n",
       "57969    0   0    294  3.028611e+06        1  \n",
       "57970    2   0   1983  3.629365e+06        3  \n",
       "57971    2   1  16679  2.956852e+05        8  \n",
       "\n",
       "[57971 rows x 35 columns]"
      ]
     },
     "execution_count": 47,
     "metadata": {},
     "output_type": "execute_result"
    }
   ],
   "source": [
    "case_cost"
   ]
  },
  {
   "cell_type": "code",
   "execution_count": 48,
   "id": "8a6a8da3",
   "metadata": {},
   "outputs": [
    {
     "data": {
      "text/html": [
       "<div>\n",
       "<style scoped>\n",
       "    .dataframe tbody tr th:only-of-type {\n",
       "        vertical-align: middle;\n",
       "    }\n",
       "\n",
       "    .dataframe tbody tr th {\n",
       "        vertical-align: top;\n",
       "    }\n",
       "\n",
       "    .dataframe thead th {\n",
       "        text-align: right;\n",
       "    }\n",
       "</style>\n",
       "<table border=\"1\" class=\"dataframe\">\n",
       "  <thead>\n",
       "    <tr style=\"text-align: right;\">\n",
       "      <th></th>\n",
       "      <th>kddati2</th>\n",
       "      <th>tkp</th>\n",
       "      <th>peserta</th>\n",
       "      <th>case</th>\n",
       "      <th>unit_cost</th>\n",
       "      <th>tipe_rs</th>\n",
       "    </tr>\n",
       "    <tr>\n",
       "      <th>row_id</th>\n",
       "      <th></th>\n",
       "      <th></th>\n",
       "      <th></th>\n",
       "      <th></th>\n",
       "      <th></th>\n",
       "      <th></th>\n",
       "    </tr>\n",
       "  </thead>\n",
       "  <tbody>\n",
       "    <tr>\n",
       "      <th>1</th>\n",
       "      <td>332</td>\n",
       "      <td>40</td>\n",
       "      <td>179530</td>\n",
       "      <td>266</td>\n",
       "      <td>3.597440e+06</td>\n",
       "      <td>2</td>\n",
       "    </tr>\n",
       "    <tr>\n",
       "      <th>2</th>\n",
       "      <td>54</td>\n",
       "      <td>40</td>\n",
       "      <td>104782</td>\n",
       "      <td>2453</td>\n",
       "      <td>4.951008e+06</td>\n",
       "      <td>5</td>\n",
       "    </tr>\n",
       "    <tr>\n",
       "      <th>3</th>\n",
       "      <td>323</td>\n",
       "      <td>30</td>\n",
       "      <td>280645</td>\n",
       "      <td>1690</td>\n",
       "      <td>1.984208e+05</td>\n",
       "      <td>1</td>\n",
       "    </tr>\n",
       "    <tr>\n",
       "      <th>4</th>\n",
       "      <td>318</td>\n",
       "      <td>40</td>\n",
       "      <td>178685</td>\n",
       "      <td>1321</td>\n",
       "      <td>4.008756e+06</td>\n",
       "      <td>5</td>\n",
       "    </tr>\n",
       "    <tr>\n",
       "      <th>5</th>\n",
       "      <td>150</td>\n",
       "      <td>30</td>\n",
       "      <td>1199321</td>\n",
       "      <td>73056</td>\n",
       "      <td>3.072272e+05</td>\n",
       "      <td>12</td>\n",
       "    </tr>\n",
       "    <tr>\n",
       "      <th>6</th>\n",
       "      <td>37</td>\n",
       "      <td>40</td>\n",
       "      <td>110377</td>\n",
       "      <td>1074</td>\n",
       "      <td>3.426614e+06</td>\n",
       "      <td>3</td>\n",
       "    </tr>\n",
       "    <tr>\n",
       "      <th>7</th>\n",
       "      <td>379</td>\n",
       "      <td>40</td>\n",
       "      <td>105699</td>\n",
       "      <td>262</td>\n",
       "      <td>2.943943e+06</td>\n",
       "      <td>1</td>\n",
       "    </tr>\n",
       "    <tr>\n",
       "      <th>8</th>\n",
       "      <td>110</td>\n",
       "      <td>40</td>\n",
       "      <td>152065</td>\n",
       "      <td>1102</td>\n",
       "      <td>3.971695e+06</td>\n",
       "      <td>4</td>\n",
       "    </tr>\n",
       "    <tr>\n",
       "      <th>9</th>\n",
       "      <td>303</td>\n",
       "      <td>30</td>\n",
       "      <td>179081</td>\n",
       "      <td>5533</td>\n",
       "      <td>2.317746e+05</td>\n",
       "      <td>2</td>\n",
       "    </tr>\n",
       "    <tr>\n",
       "      <th>10</th>\n",
       "      <td>49</td>\n",
       "      <td>30</td>\n",
       "      <td>227227</td>\n",
       "      <td>6426</td>\n",
       "      <td>1.903432e+05</td>\n",
       "      <td>1</td>\n",
       "    </tr>\n",
       "  </tbody>\n",
       "</table>\n",
       "</div>"
      ],
      "text/plain": [
       "        kddati2  tkp  peserta   case     unit_cost  tipe_rs\n",
       "row_id                                                     \n",
       "1           332   40   179530    266  3.597440e+06        2\n",
       "2            54   40   104782   2453  4.951008e+06        5\n",
       "3           323   30   280645   1690  1.984208e+05        1\n",
       "4           318   40   178685   1321  4.008756e+06        5\n",
       "5           150   30  1199321  73056  3.072272e+05       12\n",
       "6            37   40   110377   1074  3.426614e+06        3\n",
       "7           379   40   105699    262  2.943943e+06        1\n",
       "8           110   40   152065   1102  3.971695e+06        4\n",
       "9           303   30   179081   5533  2.317746e+05        2\n",
       "10           49   30   227227   6426  1.903432e+05        1"
      ]
     },
     "execution_count": 48,
     "metadata": {},
     "output_type": "execute_result"
    }
   ],
   "source": [
    "case_cost = case_cost[['kddati2', 'tkp', 'peserta', 'case', 'unit_cost', 'tipe_rs']]\n",
    "case_cost.head(10)"
   ]
  },
  {
   "cell_type": "code",
   "execution_count": 49,
   "id": "a53d625e",
   "metadata": {},
   "outputs": [
    {
     "data": {
      "text/plain": [
       "Text(0, 0.5, 'tipe_rs')"
      ]
     },
     "execution_count": 49,
     "metadata": {},
     "output_type": "execute_result"
    },
    {
     "data": {
      "image/png": "[encoded data removed]",
      "text/plain": [
       "<Figure size 432x288 with 1 Axes>"
      ]
     },
     "metadata": {
      "needs_background": "light"
     },
     "output_type": "display_data"
    }
   ],
   "source": [
    "plt.scatter(case_cost['unit_cost'],case_cost['tipe_rs'])\n",
    "plt.title(\"cost vs tipe_rs\")\n",
    "plt.xlabel('cost')\n",
    "plt.ylabel('tipe_rs')"
   ]
  },
  {
   "cell_type": "code",
   "execution_count": 50,
   "id": "cf68d414",
   "metadata": {},
   "outputs": [
    {
     "data": {
      "text/plain": [
       "<AxesSubplot:xlabel='unit_cost'>"
      ]
     },
     "execution_count": 50,
     "metadata": {},
     "output_type": "execute_result"
    },
    {
     "data": {
      "image/png": "[encoded data removed]",
      "text/plain": [
       "<Figure size 432x288 with 1 Axes>"
      ]
     },
     "metadata": {
      "needs_background": "light"
     },
     "output_type": "display_data"
    }
   ],
   "source": [
    "sns.boxplot(x=case_cost['unit_cost'])"
   ]
  },
  {
   "cell_type": "code",
   "execution_count": 51,
   "id": "acddcce1",
   "metadata": {},
   "outputs": [
    {
     "data": {
      "text/plain": [
       "52138"
      ]
     },
     "execution_count": 51,
     "metadata": {},
     "output_type": "execute_result"
    }
   ],
   "source": [
    "case_cost['unit_cost'].idxmax()"
   ]
  },
  {
   "cell_type": "code",
   "execution_count": 52,
   "id": "dc043b0e",
   "metadata": {},
   "outputs": [
    {
     "data": {
      "text/plain": [
       "kddati2          246.000\n",
       "tkp               40.000\n",
       "peserta       193724.000\n",
       "case             458.000\n",
       "unit_cost    2915721.358\n",
       "tipe_rs            2.000\n",
       "Name: 52139, dtype: float64"
      ]
     },
     "execution_count": 52,
     "metadata": {},
     "output_type": "execute_result"
    }
   ],
   "source": [
    "case_cost.iloc[52138]"
   ]
  },
  {
   "cell_type": "code",
   "execution_count": 53,
   "id": "f0e7a13d",
   "metadata": {},
   "outputs": [],
   "source": [
    "case_cost = case_cost.drop([52137, 52138], axis=0)"
   ]
  },
  {
   "cell_type": "code",
   "execution_count": 54,
   "id": "899b269e",
   "metadata": {},
   "outputs": [
    {
     "data": {
      "text/plain": [
       "<AxesSubplot:xlabel='unit_cost'>"
      ]
     },
     "execution_count": 54,
     "metadata": {},
     "output_type": "execute_result"
    },
    {
     "data": {
      "image/png": "[encoded data removed]",
      "text/plain": [
       "<Figure size 432x288 with 1 Axes>"
      ]
     },
     "metadata": {
      "needs_background": "light"
     },
     "output_type": "display_data"
    }
   ],
   "source": [
    "import seaborn as sns\n",
    "sns.boxplot(x=case_cost['unit_cost'])"
   ]
  },
  {
   "cell_type": "code",
   "execution_count": 55,
   "id": "89269e6d",
   "metadata": {},
   "outputs": [
    {
     "data": {
      "text/plain": [
       "Text(0, 0.5, 'tipe_rs')"
      ]
     },
     "execution_count": 55,
     "metadata": {},
     "output_type": "execute_result"
    },
    {
     "data": {
      "image/png": "[encoded data removed]",
      "text/plain": [
       "<Figure size 432x288 with 1 Axes>"
      ]
     },
     "metadata": {
      "needs_background": "light"
     },
     "output_type": "display_data"
    }
   ],
   "source": [
    "plt.scatter(case_cost['unit_cost'],case_cost['tipe_rs'])\n",
    "plt.title(\"cost vs tipe_rs\")\n",
    "plt.xlabel('cost')\n",
    "plt.ylabel('tipe_rs')"
   ]
  },
  {
   "cell_type": "markdown",
   "id": "be9b62ce",
   "metadata": {},
   "source": [
    "## MODELING"
   ]
  },
  {
   "cell_type": "markdown",
   "id": "ad24af82",
   "metadata": {},
   "source": [
    "Case"
   ]
  },
  {
   "cell_type": "code",
   "execution_count": 56,
   "id": "a7fd42e3",
   "metadata": {},
   "outputs": [],
   "source": [
    "import numpy as np\n",
    "import matplotlib.pyplot as plt\n",
    "import math\n",
    "from sklearn import preprocessing\n",
    "from sklearn import datasets\n",
    "from sklearn import linear_model\n",
    "from sklearn import metrics\n",
    "from sklearn.linear_model import LinearRegression\n",
    "from sklearn.model_selection import train_test_split\n",
    "from sklearn.metrics import mean_squared_error"
   ]
  },
  {
   "cell_type": "code",
   "execution_count": 57,
   "id": "8e2b0738",
   "metadata": {},
   "outputs": [],
   "source": [
    "X = case_cost[['kddati2', 'tkp', 'peserta','unit_cost', 'tipe_rs']]\n",
    "y = case_cost['case']\n",
    "m = len(y)"
   ]
  },
  {
   "cell_type": "code",
   "execution_count": 58,
   "id": "7c9c5042",
   "metadata": {},
   "outputs": [
    {
     "data": {
      "image/png": "[encoded data removed]",
      "text/plain": [
       "<Figure size 432x288 with 6 Axes>"
      ]
     },
     "metadata": {
      "needs_background": "light"
     },
     "output_type": "display_data"
    }
   ],
   "source": [
    "import matplotlib.pyplot as plt\n",
    "\n",
    "viz = case_cost[['kddati2','tkp','peserta', 'unit_cost','tipe_rs']]\n",
    "viz.hist()\n",
    "plt.show()"
   ]
  },
  {
   "cell_type": "code",
   "execution_count": 59,
   "id": "4a069e30",
   "metadata": {},
   "outputs": [],
   "source": [
    "x_train , x_test , y_train , y_test = train_test_split(X , y , test_size = 0.10,random_state =2)"
   ]
  },
  {
   "cell_type": "code",
   "execution_count": 60,
   "id": "bf69c342",
   "metadata": {},
   "outputs": [
    {
     "data": {
      "text/html": [
       "<style>#sk-container-id-1 {color: black;background-color: white;}#sk-container-id-1 pre{padding: 0;}#sk-container-id-1 div.sk-toggleable {background-color: white;}#sk-container-id-1 label.sk-toggleable__label {cursor: pointer;display: block;width: 100%;margin-bottom: 0;padding: 0.3em;box-sizing: border-box;text-align: center;}#sk-container-id-1 label.sk-toggleable__label-arrow:before {content: \"▸\";float: left;margin-right: 0.25em;color: #696969;}#sk-container-id-1 label.sk-toggleable__label-arrow:hover:before {color: black;}#sk-container-id-1 div.sk-estimator:hover label.sk-toggleable__label-arrow:before {color: black;}#sk-container-id-1 div.sk-toggleable__content {max-height: 0;max-width: 0;overflow: hidden;text-align: left;background-color: #f0f8ff;}#sk-container-id-1 div.sk-toggleable__content pre {margin: 0.2em;color: black;border-radius: 0.25em;background-color: #f0f8ff;}#sk-container-id-1 input.sk-toggleable__control:checked~div.sk-toggleable__content {max-height: 200px;max-width: 100%;overflow: auto;}#sk-container-id-1 input.sk-toggleable__control:checked~label.sk-toggleable__label-arrow:before {content: \"▾\";}#sk-container-id-1 div.sk-estimator input.sk-toggleable__control:checked~label.sk-toggleable__label {background-color: #d4ebff;}#sk-container-id-1 div.sk-label input.sk-toggleable__control:checked~label.sk-toggleable__label {background-color: #d4ebff;}#sk-container-id-1 input.sk-hidden--visually {border: 0;clip: rect(1px 1px 1px 1px);clip: rect(1px, 1px, 1px, 1px);height: 1px;margin: -1px;overflow: hidden;padding: 0;position: absolute;width: 1px;}#sk-container-id-1 div.sk-estimator {font-family: monospace;background-color: #f0f8ff;border: 1px dotted black;border-radius: 0.25em;box-sizing: border-box;margin-bottom: 0.5em;}#sk-container-id-1 div.sk-estimator:hover {background-color: #d4ebff;}#sk-container-id-1 div.sk-parallel-item::after {content: \"\";width: 100%;border-bottom: 1px solid gray;flex-grow: 1;}#sk-container-id-1 div.sk-label:hover label.sk-toggleable__label {background-color: #d4ebff;}#sk-container-id-1 div.sk-serial::before {content: \"\";position: absolute;border-left: 1px solid gray;box-sizing: border-box;top: 0;bottom: 0;left: 50%;z-index: 0;}#sk-container-id-1 div.sk-serial {display: flex;flex-direction: column;align-items: center;background-color: white;padding-right: 0.2em;padding-left: 0.2em;position: relative;}#sk-container-id-1 div.sk-item {position: relative;z-index: 1;}#sk-container-id-1 div.sk-parallel {display: flex;align-items: stretch;justify-content: center;background-color: white;position: relative;}#sk-container-id-1 div.sk-item::before, #sk-container-id-1 div.sk-parallel-item::before {content: \"\";position: absolute;border-left: 1px solid gray;box-sizing: border-box;top: 0;bottom: 0;left: 50%;z-index: -1;}#sk-container-id-1 div.sk-parallel-item {display: flex;flex-direction: column;z-index: 1;position: relative;background-color: white;}#sk-container-id-1 div.sk-parallel-item:first-child::after {align-self: flex-end;width: 50%;}#sk-container-id-1 div.sk-parallel-item:last-child::after {align-self: flex-start;width: 50%;}#sk-container-id-1 div.sk-parallel-item:only-child::after {width: 0;}#sk-container-id-1 div.sk-dashed-wrapped {border: 1px dashed gray;margin: 0 0.4em 0.5em 0.4em;box-sizing: border-box;padding-bottom: 0.4em;background-color: white;}#sk-container-id-1 div.sk-label label {font-family: monospace;font-weight: bold;display: inline-block;line-height: 1.2em;}#sk-container-id-1 div.sk-label-container {text-align: center;}#sk-container-id-1 div.sk-container {/* jupyter's `normalize.less` sets `[hidden] { display: none; }` but bootstrap.min.css set `[hidden] { display: none !important; }` so we also need the `!important` here to be able to override the default hidden behavior on the sphinx rendered scikit-learn.org. See: https://github.com/scikit-learn/scikit-learn/issues/21755 */display: inline-block !important;position: relative;}#sk-container-id-1 div.sk-text-repr-fallback {display: none;}</style><div id=\"sk-container-id-1\" class=\"sk-top-container\"><div class=\"sk-text-repr-fallback\"><pre>LinearRegression()</pre><b>In a Jupyter environment, please rerun this cell to show the HTML representation or trust the notebook. <br />On GitHub, the HTML representation is unable to render, please try loading this page with nbviewer.org.</b></div><div class=\"sk-container\" hidden><div class=\"sk-item\"><div class=\"sk-estimator sk-toggleable\"><input class=\"sk-toggleable__control sk-hidden--visually\" id=\"sk-estimator-id-1\" type=\"checkbox\" checked><label for=\"sk-estimator-id-1\" class=\"sk-toggleable__label sk-toggleable__label-arrow\">LinearRegression</label><div class=\"sk-toggleable__content\"><pre>LinearRegression()</pre></div></div></div></div></div>"
      ],
      "text/plain": [
       "LinearRegression()"
      ]
     },
     "execution_count": 60,
     "metadata": {},
     "output_type": "execute_result"
    }
   ],
   "source": [
    "reg = LinearRegression()\n",
    "reg.fit(x_train,y_train)"
   ]
  },
  {
   "cell_type": "code",
   "execution_count": 61,
   "id": "cdbef57e",
   "metadata": {},
   "outputs": [
    {
     "data": {
      "text/plain": [
       "0.6424095423156911"
      ]
     },
     "execution_count": 61,
     "metadata": {},
     "output_type": "execute_result"
    }
   ],
   "source": [
    "reg.score(x_test,y_test)"
   ]
  },
  {
   "cell_type": "code",
   "execution_count": 62,
   "id": "32c8d3e5",
   "metadata": {},
   "outputs": [],
   "source": [
    "from sklearn import ensemble\n",
    "clf = ensemble.GradientBoostingRegressor(n_estimators = 400, max_depth = 12, min_samples_split = 2,\n",
    "          learning_rate = 0.3, loss = 'ls')"
   ]
  },
  {
   "cell_type": "code",
   "execution_count": 63,
   "id": "7ad22d56",
   "metadata": {},
   "outputs": [
    {
     "name": "stderr",
     "output_type": "stream",
     "text": [
      "C:\\Users\\Dian mtd\\AppData\\Local\\Programs\\Python\\Python39\\lib\\site-packages\\sklearn\\ensemble\\_gb.py:294: FutureWarning: The loss 'ls' was deprecated in v1.0 and will be removed in version 1.2. Use 'squared_error' which is equivalent.\n",
      "  warnings.warn(\n"
     ]
    },
    {
     "data": {
      "text/html": [
       "<style>#sk-container-id-2 {color: black;background-color: white;}#sk-container-id-2 pre{padding: 0;}#sk-container-id-2 div.sk-toggleable {background-color: white;}#sk-container-id-2 label.sk-toggleable__label {cursor: pointer;display: block;width: 100%;margin-bottom: 0;padding: 0.3em;box-sizing: border-box;text-align: center;}#sk-container-id-2 label.sk-toggleable__label-arrow:before {content: \"▸\";float: left;margin-right: 0.25em;color: #696969;}#sk-container-id-2 label.sk-toggleable__label-arrow:hover:before {color: black;}#sk-container-id-2 div.sk-estimator:hover label.sk-toggleable__label-arrow:before {color: black;}#sk-container-id-2 div.sk-toggleable__content {max-height: 0;max-width: 0;overflow: hidden;text-align: left;background-color: #f0f8ff;}#sk-container-id-2 div.sk-toggleable__content pre {margin: 0.2em;color: black;border-radius: 0.25em;background-color: #f0f8ff;}#sk-container-id-2 input.sk-toggleable__control:checked~div.sk-toggleable__content {max-height: 200px;max-width: 100%;overflow: auto;}#sk-container-id-2 input.sk-toggleable__control:checked~label.sk-toggleable__label-arrow:before {content: \"▾\";}#sk-container-id-2 div.sk-estimator input.sk-toggleable__control:checked~label.sk-toggleable__label {background-color: #d4ebff;}#sk-container-id-2 div.sk-label input.sk-toggleable__control:checked~label.sk-toggleable__label {background-color: #d4ebff;}#sk-container-id-2 input.sk-hidden--visually {border: 0;clip: rect(1px 1px 1px 1px);clip: rect(1px, 1px, 1px, 1px);height: 1px;margin: -1px;overflow: hidden;padding: 0;position: absolute;width: 1px;}#sk-container-id-2 div.sk-estimator {font-family: monospace;background-color: #f0f8ff;border: 1px dotted black;border-radius: 0.25em;box-sizing: border-box;margin-bottom: 0.5em;}#sk-container-id-2 div.sk-estimator:hover {background-color: #d4ebff;}#sk-container-id-2 div.sk-parallel-item::after {content: \"\";width: 100%;border-bottom: 1px solid gray;flex-grow: 1;}#sk-container-id-2 div.sk-label:hover label.sk-toggleable__label {background-color: #d4ebff;}#sk-container-id-2 div.sk-serial::before {content: \"\";position: absolute;border-left: 1px solid gray;box-sizing: border-box;top: 0;bottom: 0;left: 50%;z-index: 0;}#sk-container-id-2 div.sk-serial {display: flex;flex-direction: column;align-items: center;background-color: white;padding-right: 0.2em;padding-left: 0.2em;position: relative;}#sk-container-id-2 div.sk-item {position: relative;z-index: 1;}#sk-container-id-2 div.sk-parallel {display: flex;align-items: stretch;justify-content: center;background-color: white;position: relative;}#sk-container-id-2 div.sk-item::before, #sk-container-id-2 div.sk-parallel-item::before {content: \"\";position: absolute;border-left: 1px solid gray;box-sizing: border-box;top: 0;bottom: 0;left: 50%;z-index: -1;}#sk-container-id-2 div.sk-parallel-item {display: flex;flex-direction: column;z-index: 1;position: relative;background-color: white;}#sk-container-id-2 div.sk-parallel-item:first-child::after {align-self: flex-end;width: 50%;}#sk-container-id-2 div.sk-parallel-item:last-child::after {align-self: flex-start;width: 50%;}#sk-container-id-2 div.sk-parallel-item:only-child::after {width: 0;}#sk-container-id-2 div.sk-dashed-wrapped {border: 1px dashed gray;margin: 0 0.4em 0.5em 0.4em;box-sizing: border-box;padding-bottom: 0.4em;background-color: white;}#sk-container-id-2 div.sk-label label {font-family: monospace;font-weight: bold;display: inline-block;line-height: 1.2em;}#sk-container-id-2 div.sk-label-container {text-align: center;}#sk-container-id-2 div.sk-container {/* jupyter's `normalize.less` sets `[hidden] { display: none; }` but bootstrap.min.css set `[hidden] { display: none !important; }` so we also need the `!important` here to be able to override the default hidden behavior on the sphinx rendered scikit-learn.org. See: https://github.com/scikit-learn/scikit-learn/issues/21755 */display: inline-block !important;position: relative;}#sk-container-id-2 div.sk-text-repr-fallback {display: none;}</style><div id=\"sk-container-id-2\" class=\"sk-top-container\"><div class=\"sk-text-repr-fallback\"><pre>GradientBoostingRegressor(learning_rate=0.3, loss=&#x27;ls&#x27;, max_depth=12,\n",
       "                          n_estimators=400)</pre><b>In a Jupyter environment, please rerun this cell to show the HTML representation or trust the notebook. <br />On GitHub, the HTML representation is unable to render, please try loading this page with nbviewer.org.</b></div><div class=\"sk-container\" hidden><div class=\"sk-item\"><div class=\"sk-estimator sk-toggleable\"><input class=\"sk-toggleable__control sk-hidden--visually\" id=\"sk-estimator-id-2\" type=\"checkbox\" checked><label for=\"sk-estimator-id-2\" class=\"sk-toggleable__label sk-toggleable__label-arrow\">GradientBoostingRegressor</label><div class=\"sk-toggleable__content\"><pre>GradientBoostingRegressor(learning_rate=0.3, loss=&#x27;ls&#x27;, max_depth=12,\n",
       "                          n_estimators=400)</pre></div></div></div></div></div>"
      ],
      "text/plain": [
       "GradientBoostingRegressor(learning_rate=0.3, loss='ls', max_depth=12,\n",
       "                          n_estimators=400)"
      ]
     },
     "execution_count": 63,
     "metadata": {},
     "output_type": "execute_result"
    }
   ],
   "source": [
    "clf.fit(x_train, y_train)"
   ]
  },
  {
   "cell_type": "code",
   "execution_count": 64,
   "id": "21e9148a",
   "metadata": {},
   "outputs": [
    {
     "data": {
      "text/plain": [
       "0.9641993904460738"
      ]
     },
     "execution_count": 64,
     "metadata": {},
     "output_type": "execute_result"
    }
   ],
   "source": [
    "clf.score(x_test,y_test)"
   ]
  },
  {
   "cell_type": "code",
   "execution_count": 65,
   "id": "cee02cb3",
   "metadata": {},
   "outputs": [],
   "source": [
    "y_pred = clf.predict(x_test)"
   ]
  },
  {
   "cell_type": "code",
   "execution_count": 66,
   "id": "23671777",
   "metadata": {},
   "outputs": [
    {
     "name": "stdout",
     "output_type": "stream",
     "text": [
      "{'copy_X': True, 'fit_intercept': True, 'n_jobs': None, 'normalize': 'deprecated', 'positive': False}\n"
     ]
    }
   ],
   "source": [
    "print(reg.get_params())"
   ]
  },
  {
   "cell_type": "code",
   "execution_count": 67,
   "id": "8a63d762",
   "metadata": {},
   "outputs": [
    {
     "name": "stdout",
     "output_type": "stream",
     "text": [
      "Mean Absolute Error: 872.9092781202397\n",
      "MAPE : 0.7323808732656785\n"
     ]
    }
   ],
   "source": [
    "meanAbErr = metrics.mean_absolute_error(y_test, y_pred)\n",
    "meanSqErr = metrics.mean_squared_error(y_test, y_pred)\n",
    "\n",
    "print('Mean Absolute Error:', meanAbErr)\n",
    "print(\"MAPE :\", (np.abs(y_test - y_pred)/y_test).mean())"
   ]
  },
  {
   "cell_type": "code",
   "execution_count": 68,
   "id": "48075962",
   "metadata": {},
   "outputs": [
    {
     "data": {
      "image/png": "[encoded data removed]",
      "text/plain": [
       "<Figure size 1080x576 with 1 Axes>"
      ]
     },
     "metadata": {
      "needs_background": "light"
     },
     "output_type": "display_data"
    }
   ],
   "source": [
    "import matplotlib.pyplot as plt\n",
    "# fitting the size of the plot\n",
    "plt.figure(figsize=(15, 8))\n",
    "# plotting the graphs\n",
    "plt.plot([i for i in range(len(y_test))],y_test, color = 'green',label=\"actual values\")\n",
    "plt.plot([i for i in range(len(y_test))],y_pred, color='red', label=\"Predicted values\")\n",
    "# showing the plotting\n",
    "plt.legend()\n",
    "plt.show()"
   ]
  },
  {
   "cell_type": "code",
   "execution_count": 69,
   "id": "e517a1c9",
   "metadata": {},
   "outputs": [
    {
     "data": {
      "text/plain": [
       "['case.pkl']"
      ]
     },
     "execution_count": 69,
     "metadata": {},
     "output_type": "execute_result"
    }
   ],
   "source": [
    "from joblib import Parallel, delayed\n",
    "import joblib\n",
    "  \n",
    "joblib.dump(reg, 'case.pkl')\n"
   ]
  },
  {
   "cell_type": "code",
   "execution_count": 70,
   "id": "09fc6662",
   "metadata": {},
   "outputs": [],
   "source": [
    "import pickle\n",
    "pickle.dump(reg, open('case.pkl','wb'))"
   ]
  },
  {
   "cell_type": "markdown",
   "id": "62c4588b",
   "metadata": {},
   "source": [
    "## Cost"
   ]
  },
  {
   "cell_type": "code",
   "execution_count": 71,
   "id": "815fc2c0",
   "metadata": {},
   "outputs": [],
   "source": [
    "m = case_cost[['kddati2', 'tkp', 'peserta', 'case', 'tipe_rs']]\n",
    "n = case_cost['unit_cost']"
   ]
  },
  {
   "cell_type": "code",
   "execution_count": 72,
   "id": "316edf9c",
   "metadata": {},
   "outputs": [],
   "source": [
    "m_train , m_test , n_train , n_test = train_test_split(m , n , test_size = 0.10,random_state =2)"
   ]
  },
  {
   "cell_type": "code",
   "execution_count": 73,
   "id": "3fbd9bf4",
   "metadata": {},
   "outputs": [
    {
     "data": {
      "text/html": [
       "<style>#sk-container-id-3 {color: black;background-color: white;}#sk-container-id-3 pre{padding: 0;}#sk-container-id-3 div.sk-toggleable {background-color: white;}#sk-container-id-3 label.sk-toggleable__label {cursor: pointer;display: block;width: 100%;margin-bottom: 0;padding: 0.3em;box-sizing: border-box;text-align: center;}#sk-container-id-3 label.sk-toggleable__label-arrow:before {content: \"▸\";float: left;margin-right: 0.25em;color: #696969;}#sk-container-id-3 label.sk-toggleable__label-arrow:hover:before {color: black;}#sk-container-id-3 div.sk-estimator:hover label.sk-toggleable__label-arrow:before {color: black;}#sk-container-id-3 div.sk-toggleable__content {max-height: 0;max-width: 0;overflow: hidden;text-align: left;background-color: #f0f8ff;}#sk-container-id-3 div.sk-toggleable__content pre {margin: 0.2em;color: black;border-radius: 0.25em;background-color: #f0f8ff;}#sk-container-id-3 input.sk-toggleable__control:checked~div.sk-toggleable__content {max-height: 200px;max-width: 100%;overflow: auto;}#sk-container-id-3 input.sk-toggleable__control:checked~label.sk-toggleable__label-arrow:before {content: \"▾\";}#sk-container-id-3 div.sk-estimator input.sk-toggleable__control:checked~label.sk-toggleable__label {background-color: #d4ebff;}#sk-container-id-3 div.sk-label input.sk-toggleable__control:checked~label.sk-toggleable__label {background-color: #d4ebff;}#sk-container-id-3 input.sk-hidden--visually {border: 0;clip: rect(1px 1px 1px 1px);clip: rect(1px, 1px, 1px, 1px);height: 1px;margin: -1px;overflow: hidden;padding: 0;position: absolute;width: 1px;}#sk-container-id-3 div.sk-estimator {font-family: monospace;background-color: #f0f8ff;border: 1px dotted black;border-radius: 0.25em;box-sizing: border-box;margin-bottom: 0.5em;}#sk-container-id-3 div.sk-estimator:hover {background-color: #d4ebff;}#sk-container-id-3 div.sk-parallel-item::after {content: \"\";width: 100%;border-bottom: 1px solid gray;flex-grow: 1;}#sk-container-id-3 div.sk-label:hover label.sk-toggleable__label {background-color: #d4ebff;}#sk-container-id-3 div.sk-serial::before {content: \"\";position: absolute;border-left: 1px solid gray;box-sizing: border-box;top: 0;bottom: 0;left: 50%;z-index: 0;}#sk-container-id-3 div.sk-serial {display: flex;flex-direction: column;align-items: center;background-color: white;padding-right: 0.2em;padding-left: 0.2em;position: relative;}#sk-container-id-3 div.sk-item {position: relative;z-index: 1;}#sk-container-id-3 div.sk-parallel {display: flex;align-items: stretch;justify-content: center;background-color: white;position: relative;}#sk-container-id-3 div.sk-item::before, #sk-container-id-3 div.sk-parallel-item::before {content: \"\";position: absolute;border-left: 1px solid gray;box-sizing: border-box;top: 0;bottom: 0;left: 50%;z-index: -1;}#sk-container-id-3 div.sk-parallel-item {display: flex;flex-direction: column;z-index: 1;position: relative;background-color: white;}#sk-container-id-3 div.sk-parallel-item:first-child::after {align-self: flex-end;width: 50%;}#sk-container-id-3 div.sk-parallel-item:last-child::after {align-self: flex-start;width: 50%;}#sk-container-id-3 div.sk-parallel-item:only-child::after {width: 0;}#sk-container-id-3 div.sk-dashed-wrapped {border: 1px dashed gray;margin: 0 0.4em 0.5em 0.4em;box-sizing: border-box;padding-bottom: 0.4em;background-color: white;}#sk-container-id-3 div.sk-label label {font-family: monospace;font-weight: bold;display: inline-block;line-height: 1.2em;}#sk-container-id-3 div.sk-label-container {text-align: center;}#sk-container-id-3 div.sk-container {/* jupyter's `normalize.less` sets `[hidden] { display: none; }` but bootstrap.min.css set `[hidden] { display: none !important; }` so we also need the `!important` here to be able to override the default hidden behavior on the sphinx rendered scikit-learn.org. See: https://github.com/scikit-learn/scikit-learn/issues/21755 */display: inline-block !important;position: relative;}#sk-container-id-3 div.sk-text-repr-fallback {display: none;}</style><div id=\"sk-container-id-3\" class=\"sk-top-container\"><div class=\"sk-text-repr-fallback\"><pre>LinearRegression()</pre><b>In a Jupyter environment, please rerun this cell to show the HTML representation or trust the notebook. <br />On GitHub, the HTML representation is unable to render, please try loading this page with nbviewer.org.</b></div><div class=\"sk-container\" hidden><div class=\"sk-item\"><div class=\"sk-estimator sk-toggleable\"><input class=\"sk-toggleable__control sk-hidden--visually\" id=\"sk-estimator-id-3\" type=\"checkbox\" checked><label for=\"sk-estimator-id-3\" class=\"sk-toggleable__label sk-toggleable__label-arrow\">LinearRegression</label><div class=\"sk-toggleable__content\"><pre>LinearRegression()</pre></div></div></div></div></div>"
      ],
      "text/plain": [
       "LinearRegression()"
      ]
     },
     "execution_count": 73,
     "metadata": {},
     "output_type": "execute_result"
    }
   ],
   "source": [
    "reg = LinearRegression()\n",
    "reg.fit(m_train,n_train)"
   ]
  },
  {
   "cell_type": "code",
   "execution_count": 74,
   "id": "83905640",
   "metadata": {},
   "outputs": [
    {
     "name": "stdout",
     "output_type": "stream",
     "text": [
      "{'copy_X': True, 'fit_intercept': True, 'n_jobs': None, 'normalize': 'deprecated', 'positive': False}\n"
     ]
    }
   ],
   "source": [
    "print(reg.get_params())"
   ]
  },
  {
   "cell_type": "code",
   "execution_count": 75,
   "id": "cd45564f",
   "metadata": {},
   "outputs": [
    {
     "data": {
      "text/plain": [
       "0.8681067199086936"
      ]
     },
     "execution_count": 75,
     "metadata": {},
     "output_type": "execute_result"
    }
   ],
   "source": [
    "reg.score(m_test,n_test)"
   ]
  },
  {
   "cell_type": "code",
   "execution_count": 76,
   "id": "2096d481",
   "metadata": {},
   "outputs": [],
   "source": [
    "from sklearn import ensemble\n",
    "cost = ensemble.GradientBoostingRegressor(n_estimators = 1000, max_depth = 18, min_samples_split = 4,\n",
    "          learning_rate = 0.3, loss = 'ls')"
   ]
  },
  {
   "cell_type": "code",
   "execution_count": 77,
   "id": "781ec97d",
   "metadata": {},
   "outputs": [
    {
     "name": "stderr",
     "output_type": "stream",
     "text": [
      "C:\\Users\\Dian mtd\\AppData\\Local\\Programs\\Python\\Python39\\lib\\site-packages\\sklearn\\ensemble\\_gb.py:294: FutureWarning: The loss 'ls' was deprecated in v1.0 and will be removed in version 1.2. Use 'squared_error' which is equivalent.\n",
      "  warnings.warn(\n"
     ]
    },
    {
     "data": {
      "text/html": [
       "<style>#sk-container-id-4 {color: black;background-color: white;}#sk-container-id-4 pre{padding: 0;}#sk-container-id-4 div.sk-toggleable {background-color: white;}#sk-container-id-4 label.sk-toggleable__label {cursor: pointer;display: block;width: 100%;margin-bottom: 0;padding: 0.3em;box-sizing: border-box;text-align: center;}#sk-container-id-4 label.sk-toggleable__label-arrow:before {content: \"▸\";float: left;margin-right: 0.25em;color: #696969;}#sk-container-id-4 label.sk-toggleable__label-arrow:hover:before {color: black;}#sk-container-id-4 div.sk-estimator:hover label.sk-toggleable__label-arrow:before {color: black;}#sk-container-id-4 div.sk-toggleable__content {max-height: 0;max-width: 0;overflow: hidden;text-align: left;background-color: #f0f8ff;}#sk-container-id-4 div.sk-toggleable__content pre {margin: 0.2em;color: black;border-radius: 0.25em;background-color: #f0f8ff;}#sk-container-id-4 input.sk-toggleable__control:checked~div.sk-toggleable__content {max-height: 200px;max-width: 100%;overflow: auto;}#sk-container-id-4 input.sk-toggleable__control:checked~label.sk-toggleable__label-arrow:before {content: \"▾\";}#sk-container-id-4 div.sk-estimator input.sk-toggleable__control:checked~label.sk-toggleable__label {background-color: #d4ebff;}#sk-container-id-4 div.sk-label input.sk-toggleable__control:checked~label.sk-toggleable__label {background-color: #d4ebff;}#sk-container-id-4 input.sk-hidden--visually {border: 0;clip: rect(1px 1px 1px 1px);clip: rect(1px, 1px, 1px, 1px);height: 1px;margin: -1px;overflow: hidden;padding: 0;position: absolute;width: 1px;}#sk-container-id-4 div.sk-estimator {font-family: monospace;background-color: #f0f8ff;border: 1px dotted black;border-radius: 0.25em;box-sizing: border-box;margin-bottom: 0.5em;}#sk-container-id-4 div.sk-estimator:hover {background-color: #d4ebff;}#sk-container-id-4 div.sk-parallel-item::after {content: \"\";width: 100%;border-bottom: 1px solid gray;flex-grow: 1;}#sk-container-id-4 div.sk-label:hover label.sk-toggleable__label {background-color: #d4ebff;}#sk-container-id-4 div.sk-serial::before {content: \"\";position: absolute;border-left: 1px solid gray;box-sizing: border-box;top: 0;bottom: 0;left: 50%;z-index: 0;}#sk-container-id-4 div.sk-serial {display: flex;flex-direction: column;align-items: center;background-color: white;padding-right: 0.2em;padding-left: 0.2em;position: relative;}#sk-container-id-4 div.sk-item {position: relative;z-index: 1;}#sk-container-id-4 div.sk-parallel {display: flex;align-items: stretch;justify-content: center;background-color: white;position: relative;}#sk-container-id-4 div.sk-item::before, #sk-container-id-4 div.sk-parallel-item::before {content: \"\";position: absolute;border-left: 1px solid gray;box-sizing: border-box;top: 0;bottom: 0;left: 50%;z-index: -1;}#sk-container-id-4 div.sk-parallel-item {display: flex;flex-direction: column;z-index: 1;position: relative;background-color: white;}#sk-container-id-4 div.sk-parallel-item:first-child::after {align-self: flex-end;width: 50%;}#sk-container-id-4 div.sk-parallel-item:last-child::after {align-self: flex-start;width: 50%;}#sk-container-id-4 div.sk-parallel-item:only-child::after {width: 0;}#sk-container-id-4 div.sk-dashed-wrapped {border: 1px dashed gray;margin: 0 0.4em 0.5em 0.4em;box-sizing: border-box;padding-bottom: 0.4em;background-color: white;}#sk-container-id-4 div.sk-label label {font-family: monospace;font-weight: bold;display: inline-block;line-height: 1.2em;}#sk-container-id-4 div.sk-label-container {text-align: center;}#sk-container-id-4 div.sk-container {/* jupyter's `normalize.less` sets `[hidden] { display: none; }` but bootstrap.min.css set `[hidden] { display: none !important; }` so we also need the `!important` here to be able to override the default hidden behavior on the sphinx rendered scikit-learn.org. See: https://github.com/scikit-learn/scikit-learn/issues/21755 */display: inline-block !important;position: relative;}#sk-container-id-4 div.sk-text-repr-fallback {display: none;}</style><div id=\"sk-container-id-4\" class=\"sk-top-container\"><div class=\"sk-text-repr-fallback\"><pre>GradientBoostingRegressor(learning_rate=0.3, loss=&#x27;ls&#x27;, max_depth=18,\n",
       "                          min_samples_split=4, n_estimators=1000)</pre><b>In a Jupyter environment, please rerun this cell to show the HTML representation or trust the notebook. <br />On GitHub, the HTML representation is unable to render, please try loading this page with nbviewer.org.</b></div><div class=\"sk-container\" hidden><div class=\"sk-item\"><div class=\"sk-estimator sk-toggleable\"><input class=\"sk-toggleable__control sk-hidden--visually\" id=\"sk-estimator-id-4\" type=\"checkbox\" checked><label for=\"sk-estimator-id-4\" class=\"sk-toggleable__label sk-toggleable__label-arrow\">GradientBoostingRegressor</label><div class=\"sk-toggleable__content\"><pre>GradientBoostingRegressor(learning_rate=0.3, loss=&#x27;ls&#x27;, max_depth=18,\n",
       "                          min_samples_split=4, n_estimators=1000)</pre></div></div></div></div></div>"
      ],
      "text/plain": [
       "GradientBoostingRegressor(learning_rate=0.3, loss='ls', max_depth=18,\n",
       "                          min_samples_split=4, n_estimators=1000)"
      ]
     },
     "execution_count": 77,
     "metadata": {},
     "output_type": "execute_result"
    }
   ],
   "source": [
    "cost.fit(m_train, n_train)"
   ]
  },
  {
   "cell_type": "code",
   "execution_count": 78,
   "id": "72eb9c2a",
   "metadata": {},
   "outputs": [
    {
     "data": {
      "text/plain": [
       "0.9806306359649714"
      ]
     },
     "execution_count": 78,
     "metadata": {},
     "output_type": "execute_result"
    }
   ],
   "source": [
    "cost.score(m_test,n_test)"
   ]
  },
  {
   "cell_type": "code",
   "execution_count": 79,
   "id": "ba63488d",
   "metadata": {},
   "outputs": [],
   "source": [
    "n_pred = cost.predict(m_test)"
   ]
  },
  {
   "cell_type": "code",
   "execution_count": 80,
   "id": "058802f4",
   "metadata": {},
   "outputs": [
    {
     "name": "stdout",
     "output_type": "stream",
     "text": [
      "Mean Absolute Error: 115424.91421851912\n",
      "MAPE : 0.06959683995773165\n"
     ]
    }
   ],
   "source": [
    "meanAbErr = metrics.mean_absolute_error(n_test, n_pred)\n",
    "meanSqErr = metrics.mean_squared_error(n_test, n_pred)\n",
    "\n",
    "print('Mean Absolute Error:', meanAbErr)\n",
    "print(\"MAPE :\", (np.abs(n_test - n_pred)/n_test).mean())"
   ]
  },
  {
   "cell_type": "code",
   "execution_count": 81,
   "id": "a6b89aef",
   "metadata": {},
   "outputs": [
    {
     "data": {
      "image/png": "[encoded data removed]",
      "text/plain": [
       "<Figure size 1080x576 with 1 Axes>"
      ]
     },
     "metadata": {
      "needs_background": "light"
     },
     "output_type": "display_data"
    }
   ],
   "source": [
    "import matplotlib.pyplot as plt\n",
    "# fitting the size of the plot\n",
    "plt.figure(figsize=(15, 8))\n",
    "# plotting the graphs\n",
    "plt.plot([i for i in range(len(n_test))],n_test, color = 'green',label=\"actual values\")\n",
    "plt.plot([i for i in range(len(n_test))],n_pred, color='red', label=\"Predicted values\")\n",
    "# showing the plotting\n",
    "plt.legend()\n",
    "plt.show()"
   ]
  },
  {
   "cell_type": "code",
   "execution_count": 82,
   "id": "3e2c445b",
   "metadata": {},
   "outputs": [
    {
     "data": {
      "text/plain": [
       "['cost.pkl']"
      ]
     },
     "execution_count": 82,
     "metadata": {},
     "output_type": "execute_result"
    }
   ],
   "source": [
    "from joblib import Parallel, delayed\n",
    "import joblib\n",
    "  \n",
    "joblib.dump(reg, 'cost.pkl')"
   ]
  },
  {
   "cell_type": "code",
   "execution_count": 83,
   "id": "400c827a",
   "metadata": {},
   "outputs": [],
   "source": [
    "import pickle\n",
    "pickle.dump(reg, open('cost.pkl','wb'))"
   ]
  }
 ],
 "metadata": {
  "kernelspec": {
   "display_name": "Python 3 (ipykernel)",
   "language": "python",
   "name": "python3"
  },
  "language_info": {
   "codemirror_mode": {
    "name": "ipython",
    "version": 3
   },
   "file_extension": ".py",
   "mimetype": "text/x-python",
   "name": "python",
   "nbconvert_exporter": "python",
   "pygments_lexer": "ipython3",
   "version": "3.9.7"
  }
 },
 "nbformat": 4,
 "nbformat_minor": 5
}
