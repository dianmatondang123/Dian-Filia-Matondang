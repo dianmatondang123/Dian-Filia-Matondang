{
 "cells": [
  {
   "cell_type": "code",
   "execution_count": 3,
   "id": "e221aceb",
   "metadata": {
    "scrolled": false
   },
   "outputs": [
    {
     "name": "stdout",
     "output_type": "stream",
     "text": [
      "Collecting flask\n",
      "  Using cached Flask-2.2.2-py3-none-any.whl (101 kB)\n",
      "Requirement already satisfied: Jinja2>=3.0 in c:\\users\\dian mtd\\appdata\\local\\programs\\python\\python39\\lib\\site-packages (from flask) (3.0.2)\n",
      "Requirement already satisfied: click>=8.0 in c:\\users\\dian mtd\\appdata\\local\\programs\\python\\python39\\lib\\site-packages (from flask) (8.1.3)\n",
      "Collecting Werkzeug>=2.2.2\n",
      "  Using cached Werkzeug-2.2.2-py3-none-any.whl (232 kB)\n",
      "Collecting itsdangerous>=2.0\n",
      "  Using cached itsdangerous-2.1.2-py3-none-any.whl (15 kB)\n",
      "Collecting importlib-metadata>=3.6.0\n",
      "  Using cached importlib_metadata-5.2.0-py3-none-any.whl (21 kB)\n",
      "Requirement already satisfied: colorama in c:\\users\\dian mtd\\appdata\\local\\programs\\python\\python39\\lib\\site-packages (from click>=8.0->flask) (0.4.4)\n",
      "Requirement already satisfied: zipp>=0.5 in c:\\users\\dian mtd\\appdata\\local\\programs\\python\\python39\\lib\\site-packages (from importlib-metadata>=3.6.0->flask) (3.11.0)\n",
      "Requirement already satisfied: MarkupSafe>=2.0 in c:\\users\\dian mtd\\appdata\\local\\programs\\python\\python39\\lib\\site-packages (from Jinja2>=3.0->flask) (2.1.1)\n",
      "Installing collected packages: Werkzeug, itsdangerous, importlib-metadata, flask\n",
      "Successfully installed Werkzeug-2.2.2 flask-2.2.2 importlib-metadata-5.2.0 itsdangerous-2.1.2\n",
      "Note: you may need to restart the kernel to use updated packages.\n"
     ]
    }
   ],
   "source": [
    "pip install flask"
   ]
  },
  {
   "cell_type": "code",
   "execution_count": 1,
   "id": "f7500b7a",
   "metadata": {},
   "outputs": [
    {
     "name": "stdout",
     "output_type": "stream",
     "text": [
      " * Serving Flask app '__main__'\n",
      " * Debug mode: on\n"
     ]
    },
    {
     "name": "stderr",
     "output_type": "stream",
     "text": [
      "WARNING: This is a development server. Do not use it in a production deployment. Use a production WSGI server instead.\n",
      " * Running on http://127.0.0.1:5000\n",
      "Press CTRL+C to quit\n",
      " * Restarting with stat\n"
     ]
    },
    {
     "ename": "SystemExit",
     "evalue": "1",
     "output_type": "error",
     "traceback": [
      "An exception has occurred, use %tb to see the full traceback.\n",
      "\u001b[1;31mSystemExit\u001b[0m\u001b[1;31m:\u001b[0m 1\n"
     ]
    },
    {
     "name": "stderr",
     "output_type": "stream",
     "text": [
      "C:\\Users\\Dian mtd\\AppData\\Local\\Programs\\Python\\Python39\\lib\\site-packages\\IPython\\core\\interactiveshell.py:3452: UserWarning: To exit: use 'exit', 'quit', or Ctrl-D.\n",
      "  warn(\"To exit: use 'exit', 'quit', or Ctrl-D.\", stacklevel=1)\n"
     ]
    }
   ],
   "source": [
    "from flask import Flask, request, render_template\n",
    "import pickle\n",
    "\n",
    "import numpy\n",
    "\n",
    "app = Flask(__name__)\n",
    "\n",
    "model_file1 = open('cost.pkl', 'rb')\n",
    "model1 = pickle.load(model_file1, encoding='bytes')\n",
    "\n",
    "model_file2 = open('case.pkl', 'rb')\n",
    "model2 = pickle.load(model_file2, encoding='bytes')\n",
    "\n",
    "@app.route('/')\n",
    "def index():\n",
    "    return render_template('index.html', unit_cost=0, case=0)\n",
    "                           \n",
    "@app.route('/predict', methods=['POST'])\n",
    "def predict():\n",
    "    \n",
    "    kddati2, tkp, peserta, tglpelayanan = [x for x in request.form.values()]\n",
    "    \n",
    "    data = []\n",
    "    \n",
    "    data.append(float(kddati2))\n",
    "    data.append(float(tkp))\n",
    "    data.append(float(peserta))\n",
    "    data.append(float(tglpelayanan))\n",
    "    \n",
    "    try:\n",
    "        prediction = model1.predict([data])\n",
    "        output1 = round(float(prediction[0]),2)\n",
    "    except:\n",
    "        output1=0\n",
    "    try:\n",
    "        prediction = model2.predict([data])\n",
    "        output2 = round(float(prediction[0]),2)\n",
    "    except:\n",
    "        output2=0\n",
    "    \n",
    "    return render_template('index.html', unit_cost=output1, case=output2, kddati2=kddati2, tkp=tkp, peserta=peserta, tglpelayanan=tglpelayanan)\n",
    "\n",
    "if __name__ == '__main__':\n",
    "    app.run(debug=True)\n"
   ]
  },
  {
   "cell_type": "code",
   "execution_count": null,
   "id": "2419109f",
   "metadata": {},
   "outputs": [],
   "source": []
  }
 ],
 "metadata": {
  "kernelspec": {
   "display_name": "Python 3 (ipykernel)",
   "language": "python",
   "name": "python3"
  },
  "language_info": {
   "codemirror_mode": {
    "name": "ipython",
    "version": 3
   },
   "file_extension": ".py",
   "mimetype": "text/x-python",
   "name": "python",
   "nbconvert_exporter": "python",
   "pygments_lexer": "ipython3",
   "version": "3.9.7"
  }
 },
 "nbformat": 4,
 "nbformat_minor": 5
}
